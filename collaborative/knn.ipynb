{
 "cells": [
  {
   "cell_type": "code",
   "execution_count": 2,
   "metadata": {},
   "outputs": [],
   "source": [
    "import pandas as pd\n",
    "import numpy as np\n",
    "import matplotlib.pyplot as plt\n",
    "import seaborn as sns\n",
    "\n",
    "import re"
   ]
  },
  {
   "cell_type": "code",
   "execution_count": 3,
   "metadata": {},
   "outputs": [],
   "source": [
    "ratings = pd.read_csv(\n",
    "    \"../MIND/behaviors.tsv\",\n",
    "    sep='\\t',\n",
    "    header=None,\n",
    "    names=[\"impressionId\", \"userId\", \"time\", \"history\", \"impressions\"]\n",
    "  )\n",
    "\n",
    "ratings = ratings.dropna()\n",
    "\n",
    "def aggregateRating(x): \n",
    "  items = x.split(\" \")\n",
    "  clicked = re.findall(r\"\\w+-1\", x)\n",
    "  return len(items) // len(clicked)\n",
    "\n",
    "def getClicked(x):\n",
    "  return re.findall(r\"(\\w+)-1\", x)\n",
    "\n",
    "printed = False\n",
    "def aggregateImpression(x):\n",
    "  clicked = re.findall(r\"(\\w+)-1\", x)\n",
    "  size = len(x.split(\" \"))\n",
    "  print(clicked, size)\n",
    "\n",
    "ratings[\"rating\"] = ratings[\"impressions\"].apply(aggregateRating)\n",
    "ratings[\"newsId\"] = ratings[\"impressions\"].apply(getClicked)\n",
    "ratings = ratings.explode(\"newsId\", ignore_index=True)\n",
    "\n",
    "ratings[\"ratingId\"] = ratings[\"impressionId\"].astype(str) + \"-\" + ratings[\"newsId\"]\n",
    "\n",
    "ratings = ratings[[\"ratingId\", \"impressionId\", \"userId\", \"newsId\", \"rating\"]]"
   ]
  },
  {
   "cell_type": "code",
   "execution_count": 4,
   "metadata": {},
   "outputs": [
    {
     "name": "stdout",
     "output_type": "stream",
     "text": [
      "<class 'pandas.core.frame.DataFrame'>\n",
      "RangeIndex: 107968 entries, 0 to 107967\n",
      "Data columns (total 5 columns):\n",
      " #   Column        Non-Null Count   Dtype \n",
      "---  ------        --------------   ----- \n",
      " 0   ratingId      107968 non-null  object\n",
      " 1   impressionId  107968 non-null  int64 \n",
      " 2   userId        107968 non-null  object\n",
      " 3   newsId        107968 non-null  object\n",
      " 4   rating        107968 non-null  int64 \n",
      "dtypes: int64(2), object(3)\n",
      "memory usage: 4.1+ MB\n",
      "None\n",
      "107968\n",
      "   ratingId  impressionId  userId  newsId  rating\n",
      "0  1-N31958             1  U80234  N31958      22\n",
      "1  2-N23513             2  U60458  N23513       7\n",
      "2   3-N5940             3  U44190   N5940      23\n",
      "3  4-N15347             4  U87380  N15347      26\n",
      "4   5-N5940             5   U9444   N5940       7\n",
      "\n",
      "            ratingId  impressionId  userId  newsId  rating\n",
      "107963  73149-N11390         73149  U56193  N11390      17\n",
      "107964  73150-N60215         73150  U16799  N60215      37\n",
      "107965  73150-N54562         73150  U16799  N54562      37\n",
      "107966  73151-N20036         73151   U8786  N20036      20\n",
      "107967  73152-N21679         73152  U68182  N21679      11\n"
     ]
    }
   ],
   "source": [
    "print(ratings.info())\n",
    "print(ratings[\"ratingId\"].nunique())\n",
    "\n",
    "print(ratings.head())\n",
    "print()\n",
    "print(ratings.tail())\n",
    "\n"
   ]
  },
  {
   "cell_type": "markdown",
   "metadata": {},
   "source": [
    "### Distribution of ratings\n",
    "\n",
    "Even though these are not real ratings"
   ]
  },
  {
   "cell_type": "code",
   "execution_count": 5,
   "metadata": {},
   "outputs": [
    {
     "data": {
      "image/png": "[encoded data removed]",
      "text/plain": [
       "<Figure size 640x480 with 1 Axes>"
      ]
     },
     "metadata": {},
     "output_type": "display_data"
    }
   ],
   "source": [
    "sns.countplot(x=\"rating\", data=ratings)\n",
    "plt.title(\"Distribution of fake ratings\", fontsize=14)\n",
    "plt.show()"
   ]
  },
  {
   "cell_type": "code",
   "execution_count": 6,
   "metadata": {},
   "outputs": [
    {
     "name": "stdout",
     "output_type": "stream",
     "text": [
      "Mean rating 24.45\n"
     ]
    }
   ],
   "source": [
    "print(f\"Mean rating {round(ratings[\"rating\"].mean(), 2)}\")"
   ]
  },
  {
   "cell_type": "code",
   "execution_count": 7,
   "metadata": {},
   "outputs": [
    {
     "name": "stdout",
     "output_type": "stream",
     "text": [
      "   newsId                                              title\n",
      "0  N55528  The Brands Queen Elizabeth, Prince Charles, an...\n",
      "1  N18955  Dispose of unwanted prescription drugs during ...\n",
      "2  N61837  The Cost of Trump's Aid Freeze in the Trenches...\n",
      "3  N53526  I Was An NBA Wife. Here's How It Affected My M...\n",
      "4  N38324  How to Get Rid of Skin Tags, According to a De...\n",
      "<class 'pandas.core.frame.DataFrame'>\n",
      "RangeIndex: 42416 entries, 0 to 42415\n",
      "Data columns (total 2 columns):\n",
      " #   Column  Non-Null Count  Dtype \n",
      "---  ------  --------------  ----- \n",
      " 0   newsId  42416 non-null  object\n",
      " 1   title   42416 non-null  object\n",
      "dtypes: object(2)\n",
      "memory usage: 662.9+ KB\n",
      "None\n"
     ]
    }
   ],
   "source": [
    "news = pd.read_csv(\n",
    "  \"../MIND/news.tsv\",\n",
    "  sep=\"\\t\", \n",
    "  header=None,\n",
    "  names=[\"newsId\", \"category\", \"subcategory\", \"title\", \"abstract\", \"url\", \"titleEntities\", \"abstractEntities\"],\n",
    "  usecols=[\"newsId\", \"title\"]\n",
    ")\n",
    "\n",
    "print(news.head())\n",
    "print(news.info())"
   ]
  },
  {
   "cell_type": "code",
   "execution_count": 8,
   "metadata": {},
   "outputs": [],
   "source": [
    "from scipy.sparse import csr_matrix\n",
    "\n",
    "def create_X(df): \n",
    "  \"\"\"\n",
    "  Sparse matrix\n",
    "  Args:\n",
    "    df: dataframe with 3 columns (userId, newsId, rating)\n",
    "  \"\"\"\n",
    "  M = df['userId'].nunique()\n",
    "  N = df['newsId'].nunique()\n",
    "\n",
    "  user2index = dict(zip(np.unique(df[\"userId\"]), list(range(M))))\n",
    "  news2index = dict(zip(np.unique(df[\"newsId\"]), list(range(N))))\n",
    "\n",
    "  index2user = dict(zip(list(range(M)), np.unique(df[\"userId\"])))\n",
    "  index2news = dict(zip(list(range(N)), np.unique(df[\"newsId\"])))\n",
    "\n",
    "  user_index = [user2index[i] for i in df[\"userId\"]]\n",
    "  news_index = [news2index[i] for i in df[\"newsId\"]]\n",
    "\n",
    "  X = csr_matrix((df[\"rating\"], (user_index, news_index)), shape=(M, N))\n",
    "\n",
    "  return X, user2index, news2index, index2user, index2news\n",
    "\n",
    "X, user2index, news2index, index2user, index2news = create_X(ratings)"
   ]
  },
  {
   "cell_type": "code",
   "execution_count": 9,
   "metadata": {},
   "outputs": [
    {
     "name": "stdout",
     "output_type": "stream",
     "text": [
      "Matrix sparsity: 0.1%\n"
     ]
    }
   ],
   "source": [
    "n_total = X.shape[0] * X.shape[1]\n",
    "n_ratings = X.nnz\n",
    "sparsity = n_ratings / n_total\n",
    "\n",
    "print(f\"Matrix sparsity: {round(sparsity*100, 2)}%\")"
   ]
  },
  {
   "cell_type": "markdown",
   "metadata": {},
   "source": [
    "A sparsity of 0.1% is the absolute lowest possible where collaborative filtering makes sense at all. "
   ]
  },
  {
   "cell_type": "code",
   "execution_count": 10,
   "metadata": {},
   "outputs": [
    {
     "name": "stdout",
     "output_type": "stream",
     "text": [
      "total users 48593\n",
      "Most clicking user 30\n",
      "Min clicking user 1\n"
     ]
    }
   ],
   "source": [
    "clicks_per_user = X.getnnz(axis=1)\n",
    "\n",
    "print(f\"total users {len(clicks_per_user)}\")\n",
    "print(f\"Most clicking user {clicks_per_user.max()}\")\n",
    "print(f\"Min clicking user {clicks_per_user.min()}\")\n"
   ]
  },
  {
   "cell_type": "code",
   "execution_count": 11,
   "metadata": {},
   "outputs": [
    {
     "name": "stdout",
     "output_type": "stream",
     "text": [
      "Most clicked 7795\n",
      "Min clicked 1\n"
     ]
    }
   ],
   "source": [
    "clicks_per_article = X.getnnz(axis=0)\n",
    "\n",
    "print(f\"Most clicked {clicks_per_article.max()}\")\n",
    "print(f\"Min clicked {clicks_per_article.min()}\")\n"
   ]
  },
  {
   "cell_type": "code",
   "execution_count": 12,
   "metadata": {},
   "outputs": [
    {
     "data": {
      "image/png": "[encoded data removed]",
      "text/plain": [
       "<Figure size 1600x400 with 2 Axes>"
      ]
     },
     "metadata": {},
     "output_type": "display_data"
    }
   ],
   "source": [
    "plt.figure(figsize=(16, 4))\n",
    "plt.subplot(1, 2, 1)\n",
    "sns.kdeplot(clicks_per_user, fill=True)\n",
    "plt.xlim(0)\n",
    "plt.title(\"Number of clicks per user\", fontsize=14)\n",
    "plt.xlabel(\"number of ratings per user\")\n",
    "plt.ylabel(\"density\")\n",
    "plt.subplot(1, 2, 2)\n",
    "sns.kdeplot(clicks_per_article, fill=True)\n",
    "plt.xlim(0)\n",
    "plt.title(\"Number of clicks per article\", fontsize=14)\n",
    "plt.xlabel(\"number of clicks per movie\")\n",
    "plt.ylabel(\"density\")\n",
    "plt.show()\n"
   ]
  },
  {
   "cell_type": "code",
   "execution_count": 21,
   "metadata": {},
   "outputs": [],
   "source": [
    "from sklearn.neighbors import NearestNeighbors\n",
    "\n",
    "def find_similar_news(news_id, X, news2index, index2news, k, metric='cosine'):\n",
    "  X = X.T\n",
    "  neighbor_ids = []\n",
    "\n",
    "  news_idx = news2index[news_id]\n",
    "  news_vec = X[news_idx]\n",
    "\n",
    "  if isinstance(news_vec, (np.ndarray)):\n",
    "    news_vec = news_vec.reshape(1, -1)\n",
    "  \n",
    "  kNN = NearestNeighbors(n_neighbors=k+1, algorithm=\"brute\", metric=metric)\n",
    "  kNN.fit(X)\n",
    "  neighbor = kNN.kneighbors(news_vec, return_distance=False)\n",
    "  for i in range(0, k):\n",
    "    n = neighbor.item(i)\n",
    "    neighbor_ids.append(index2news[n])\n",
    "  neighbor_ids.pop(0)\n",
    "  return neighbor_ids\n",
    "\n"
   ]
  },
  {
   "cell_type": "code",
   "execution_count": 14,
   "metadata": {},
   "outputs": [
    {
     "data": {
      "text/plain": [
       "['N58251',\n",
       " 'N36779',\n",
       " 'N23513',\n",
       " 'N5472',\n",
       " 'N42844',\n",
       " 'N30290',\n",
       " 'N5940',\n",
       " 'N21484',\n",
       " 'N19990']"
      ]
     },
     "execution_count": 14,
     "metadata": {},
     "output_type": "execute_result"
    }
   ],
   "source": [
    "similar_news = find_similar_news(\"N31958\", X, news2index, index2news, k=10)\n",
    "similar_news"
   ]
  },
  {
   "cell_type": "code",
   "execution_count": 18,
   "metadata": {},
   "outputs": [
    {
     "name": "stdout",
     "output_type": "stream",
     "text": [
      "Opinion: Colin Kaepernick is about to get what he deserves: a chance\n",
      "\n",
      "Some believe Mason Rudolph, hit in head with his own helmet, isn't getting enough blame\n",
      "South Carolina teen gets life in prison for deadly elementary school shooting\n",
      "This was uglier than a brawl. And Myles Garrett deserves suspension for rest of year after helmet attack.\n",
      "Report: Police investigating woman's death after Redskins' player Montae Nicholson took her to hospital\n",
      "Survivor Contestants Missy Byrd and Elizabeth Beisel Apologize For Their Actions\n",
      "The Real Reason McDonald's Keeps the Filet-O-Fish on Their Menu\n",
      "Meghan Markle and Hillary Clinton Secretly Spent the Afternoon Together at Frogmore Cottage\n",
      "Hue Jackson will run Colin Kaepernick's passing drills, 11 teams have said they'll attend\n",
      "Cows swept away by Hurricane Dorian found alive   but how?\n"
     ]
    }
   ],
   "source": [
    "newsId2title = dict(zip(news[\"newsId\"], news[\"title\"]))\n",
    "print(newsId2title[\"N31958\"])\n",
    "\n",
    "print()\n",
    "\n",
    "for i in similar_news:\n",
    "  print(newsId2title[i])\n"
   ]
  },
  {
   "cell_type": "markdown",
   "metadata": {},
   "source": [
    "#### Dimensionality Reduction (SVD)"
   ]
  },
  {
   "cell_type": "code",
   "execution_count": 17,
   "metadata": {},
   "outputs": [
    {
     "data": {
      "text/plain": [
       "(2188, 20)"
      ]
     },
     "execution_count": 17,
     "metadata": {},
     "output_type": "execute_result"
    }
   ],
   "source": [
    "from sklearn.decomposition import TruncatedSVD\n",
    "\n",
    "svd = TruncatedSVD(n_components=20, n_iter=10)\n",
    "Q = svd.fit_transform(X.T)\n",
    "Q.shape"
   ]
  },
  {
   "cell_type": "code",
   "execution_count": null,
   "metadata": {},
   "outputs": [
    {
     "name": "stdout",
     "output_type": "stream",
     "text": [
      "Opinion: Colin Kaepernick is about to get what he deserves: a chance\n",
      "\n",
      "Similar news:\n",
      "Earthquake puts a crack in France\n",
      "State of emergency declared amid flooding\n",
      "Former intelligence officer reacts to impeachment hearings against Trump\n",
      "17 Super Clever Ways for Getting Rid of Junk\n",
      "Trust seeks seizure of Rudy Giuliani associate Lev Parnas's bail to repay $678K judgment\n",
      "Katie Couric Says Matt Lauer 'Ultimately Turned Out to Be Two Very Different People'\n",
      "Japan Wants You To Stop Buying All Its Skyline GT-Rs\n",
      "15 Household Mainstays from Your Childhood That You Won't Find in New Homes\n",
      "Popular New York high school football coach, teacher reassigned pending investigation\n"
     ]
    }
   ],
   "source": [
    "news_id = \"N31958\"\n",
    "similar_news = find_similar_news(news_id, Q.T, news2index, index2news, metric=\"cosine\", k=10)\n",
    "\n",
    "print(newsId2title[news_id])\n",
    "print(\"\\nSimilar news:\")\n",
    "\n",
    "for i in similar_news:\n",
    "  print(newsId2title[i]) \n",
    "\n",
    "# Are they similar? Does not feel like it...\n"
   ]
  },
  {
   "cell_type": "code",
   "execution_count": null,
   "metadata": {},
   "outputs": [],
   "source": []
  }
 ],
 "metadata": {
  "kernelspec": {
   "display_name": "venv",
   "language": "python",
   "name": "python3"
  },
  "language_info": {
   "codemirror_mode": {
    "name": "ipython",
    "version": 3
   },
   "file_extension": ".py",
   "mimetype": "text/x-python",
   "name": "python",
   "nbconvert_exporter": "python",
   "pygments_lexer": "ipython3",
   "version": "3.12.3"
  }
 },
 "nbformat": 4,
 "nbformat_minor": 2
}
