{
 "cells": [
  {
   "cell_type": "code",
   "id": "initial_id",
   "metadata": {
    "collapsed": true,
    "ExecuteTime": {
     "end_time": "2025-04-05T18:12:11.970219Z",
     "start_time": "2025-04-05T18:12:11.967065Z"
    }
   },
   "source": [
    "import os\n",
    "import pandas as pd\n",
    "from tempfile import TemporaryDirectory\n",
    "from recommenders.datasets.mind import download_mind\n",
    "from recommenders.datasets.download_utils import unzip_file\n",
    "from models.als_test import ALSRecommender"
   ],
   "outputs": [],
   "execution_count": 2
  },
  {
   "metadata": {
    "ExecuteTime": {
     "end_time": "2025-04-05T18:12:22.979532Z",
     "start_time": "2025-04-05T18:12:13.197745Z"
    }
   },
   "cell_type": "code",
   "source": [
    "# Create tempdir, download and unzip datasets\n",
    "tmpdir = TemporaryDirectory()\n",
    "data_path = tmpdir.name\n",
    "\n",
    "train_zip, valid_zip = download_mind(size=\"small\", dest_path=data_path)\n",
    "unzip_file(train_zip, os.path.join(data_path, 'train'), clean_zip_file=False)\n",
    "unzip_file(valid_zip, os.path.join(data_path, 'valid'), clean_zip_file=False)\n",
    "\n",
    "# Path to behaviors file\n",
    "train_behaviors_path = os.path.join(data_path, \"train\", \"behaviors.tsv\")\n",
    "valid_behaviors_path = os.path.join(data_path, \"valid\", \"behaviors.tsv\")"
   ],
   "id": "611bdfeb1cb95a90",
   "outputs": [
    {
     "name": "stderr",
     "output_type": "stream",
     "text": [
      "100%|██████████| 51.8k/51.8k [00:04<00:00, 10.6kKB/s]\n",
      "100%|██████████| 30.2k/30.2k [00:03<00:00, 8.88kKB/s]\n"
     ]
    }
   ],
   "execution_count": 3
  },
  {
   "metadata": {
    "ExecuteTime": {
     "end_time": "2025-04-05T18:17:16.873698Z",
     "start_time": "2025-04-05T18:12:43.224743Z"
    }
   },
   "cell_type": "code",
   "source": [
    "# Load the behaviors.tsv file into a DataFrame\n",
    "behaviors_cols = [\"impression_id\", \"user_id\", \"timestamp\", \"history\", \"impressions\"]\n",
    "train_behaviors_df = pd.read_csv(train_behaviors_path, sep='\\t', header=None, names=behaviors_cols)\n",
    "valid_behaviors_df = pd.read_csv(valid_behaviors_path, sep='\\t', header=None, names=behaviors_cols)\n",
    "\n",
    "als_recommender = ALSRecommender(train_behaviors_df, num_factors=20, alpha=40, reg=0.1, num_iters=10)\n",
    "als_recommender.train()\n",
    "# For example, generate recommendations for the first user in the dataset:\n",
    "sample_user = train_behaviors_df.iloc[0][\"user_id\"]\n",
    "print(\"Recommendations for user {}:\".format(sample_user))\n",
    "print(als_recommender.recommend(sample_user, N=5))"
   ],
   "id": "fef890a40b055ebd",
   "outputs": [
    {
     "name": "stdout",
     "output_type": "stream",
     "text": [
      "Iteration 1/10 completed.\n",
      "Iteration 2/10 completed.\n"
     ]
    },
    {
     "ename": "KeyboardInterrupt",
     "evalue": "",
     "output_type": "error",
     "traceback": [
      "\u001B[0;31m---------------------------------------------------------------------------\u001B[0m",
      "\u001B[0;31mKeyboardInterrupt\u001B[0m                         Traceback (most recent call last)",
      "Cell \u001B[0;32mIn[4], line 7\u001B[0m\n\u001B[1;32m      4\u001B[0m valid_behaviors_df \u001B[38;5;241m=\u001B[39m pd\u001B[38;5;241m.\u001B[39mread_csv(valid_behaviors_path, sep\u001B[38;5;241m=\u001B[39m\u001B[38;5;124m'\u001B[39m\u001B[38;5;130;01m\\t\u001B[39;00m\u001B[38;5;124m'\u001B[39m, header\u001B[38;5;241m=\u001B[39m\u001B[38;5;28;01mNone\u001B[39;00m, names\u001B[38;5;241m=\u001B[39mbehaviors_cols)\n\u001B[1;32m      6\u001B[0m als_recommender \u001B[38;5;241m=\u001B[39m ALSRecommender(train_behaviors_df, num_factors\u001B[38;5;241m=\u001B[39m\u001B[38;5;241m20\u001B[39m, alpha\u001B[38;5;241m=\u001B[39m\u001B[38;5;241m40\u001B[39m, reg\u001B[38;5;241m=\u001B[39m\u001B[38;5;241m0.1\u001B[39m, num_iters\u001B[38;5;241m=\u001B[39m\u001B[38;5;241m10\u001B[39m)\n\u001B[0;32m----> 7\u001B[0m \u001B[43mals_recommender\u001B[49m\u001B[38;5;241;43m.\u001B[39;49m\u001B[43mtrain\u001B[49m\u001B[43m(\u001B[49m\u001B[43m)\u001B[49m\n\u001B[1;32m      8\u001B[0m \u001B[38;5;66;03m# For example, generate recommendations for the first user in the dataset:\u001B[39;00m\n\u001B[1;32m      9\u001B[0m sample_user \u001B[38;5;241m=\u001B[39m train_behaviors_df\u001B[38;5;241m.\u001B[39miloc[\u001B[38;5;241m0\u001B[39m][\u001B[38;5;124m\"\u001B[39m\u001B[38;5;124muser_id\u001B[39m\u001B[38;5;124m\"\u001B[39m]\n",
      "File \u001B[0;32m~/Documents/CODE_PROJECTS/Article-Recommender/models/als.py:113\u001B[0m, in \u001B[0;36mALSRecommender.train\u001B[0;34m(self)\u001B[0m\n\u001B[1;32m    111\u001B[0m         A \u001B[38;5;241m+\u001B[39m\u001B[38;5;241m=\u001B[39m \u001B[38;5;28mself\u001B[39m\u001B[38;5;241m.\u001B[39malpha \u001B[38;5;241m*\u001B[39m np\u001B[38;5;241m.\u001B[39mouter(u_factor, u_factor)\n\u001B[1;32m    112\u001B[0m         b \u001B[38;5;241m+\u001B[39m\u001B[38;5;241m=\u001B[39m (\u001B[38;5;241m1\u001B[39m \u001B[38;5;241m+\u001B[39m \u001B[38;5;28mself\u001B[39m\u001B[38;5;241m.\u001B[39malpha) \u001B[38;5;241m*\u001B[39m u_factor\n\u001B[0;32m--> 113\u001B[0m     \u001B[38;5;28mself\u001B[39m\u001B[38;5;241m.\u001B[39mV[i] \u001B[38;5;241m=\u001B[39m \u001B[43mnp\u001B[49m\u001B[38;5;241;43m.\u001B[39;49m\u001B[43mlinalg\u001B[49m\u001B[38;5;241;43m.\u001B[39;49m\u001B[43msolve\u001B[49m\u001B[43m(\u001B[49m\u001B[43mA\u001B[49m\u001B[43m,\u001B[49m\u001B[43m \u001B[49m\u001B[43mb\u001B[49m\u001B[43m)\u001B[49m\n\u001B[1;32m    115\u001B[0m \u001B[38;5;28mprint\u001B[39m(\u001B[38;5;124mf\u001B[39m\u001B[38;5;124m\"\u001B[39m\u001B[38;5;124mIteration \u001B[39m\u001B[38;5;132;01m{\u001B[39;00miteration\u001B[38;5;250m \u001B[39m\u001B[38;5;241m+\u001B[39m\u001B[38;5;250m \u001B[39m\u001B[38;5;241m1\u001B[39m\u001B[38;5;132;01m}\u001B[39;00m\u001B[38;5;124m/\u001B[39m\u001B[38;5;132;01m{\u001B[39;00m\u001B[38;5;28mself\u001B[39m\u001B[38;5;241m.\u001B[39mnum_iters\u001B[38;5;132;01m}\u001B[39;00m\u001B[38;5;124m completed.\u001B[39m\u001B[38;5;124m\"\u001B[39m)\n",
      "File \u001B[0;32m~/Documents/CODE_PROJECTS/Article-Recommender/.venv/lib/python3.9/site-packages/numpy/linalg/linalg.py:409\u001B[0m, in \u001B[0;36msolve\u001B[0;34m(a, b)\u001B[0m\n\u001B[1;32m    407\u001B[0m signature \u001B[38;5;241m=\u001B[39m \u001B[38;5;124m'\u001B[39m\u001B[38;5;124mDD->D\u001B[39m\u001B[38;5;124m'\u001B[39m \u001B[38;5;28;01mif\u001B[39;00m isComplexType(t) \u001B[38;5;28;01melse\u001B[39;00m \u001B[38;5;124m'\u001B[39m\u001B[38;5;124mdd->d\u001B[39m\u001B[38;5;124m'\u001B[39m\n\u001B[1;32m    408\u001B[0m extobj \u001B[38;5;241m=\u001B[39m get_linalg_error_extobj(_raise_linalgerror_singular)\n\u001B[0;32m--> 409\u001B[0m r \u001B[38;5;241m=\u001B[39m \u001B[43mgufunc\u001B[49m\u001B[43m(\u001B[49m\u001B[43ma\u001B[49m\u001B[43m,\u001B[49m\u001B[43m \u001B[49m\u001B[43mb\u001B[49m\u001B[43m,\u001B[49m\u001B[43m \u001B[49m\u001B[43msignature\u001B[49m\u001B[38;5;241;43m=\u001B[39;49m\u001B[43msignature\u001B[49m\u001B[43m,\u001B[49m\u001B[43m \u001B[49m\u001B[43mextobj\u001B[49m\u001B[38;5;241;43m=\u001B[39;49m\u001B[43mextobj\u001B[49m\u001B[43m)\u001B[49m\n\u001B[1;32m    411\u001B[0m \u001B[38;5;28;01mreturn\u001B[39;00m wrap(r\u001B[38;5;241m.\u001B[39mastype(result_t, copy\u001B[38;5;241m=\u001B[39m\u001B[38;5;28;01mFalse\u001B[39;00m))\n",
      "\u001B[0;31mKeyboardInterrupt\u001B[0m: "
     ]
    }
   ],
   "execution_count": 4
  },
  {
   "metadata": {},
   "cell_type": "code",
   "source": [
    "# Evaluate the model on the validation set using NDCG@5.\n",
    "avg_ndcg = als_recommender.evaluate(valid_behaviors_df, K=5)\n",
    "print(\"Average NDCG@5 on validation set:\", avg_ndcg)"
   ],
   "id": "daa7ee3ec22212b0",
   "outputs": [],
   "execution_count": null
  }
 ],
 "metadata": {
  "kernelspec": {
   "display_name": "Python 3",
   "language": "python",
   "name": "python3"
  },
  "language_info": {
   "codemirror_mode": {
    "name": "ipython",
    "version": 2
   },
   "file_extension": ".py",
   "mimetype": "text/x-python",
   "name": "python",
   "nbconvert_exporter": "python",
   "pygments_lexer": "ipython2",
   "version": "2.7.6"
  }
 },
 "nbformat": 4,
 "nbformat_minor": 5
}
