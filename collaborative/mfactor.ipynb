{
 "cells": [
  {
   "cell_type": "code",
   "execution_count": 1,
   "metadata": {},
   "outputs": [],
   "source": [
    "import sys\n",
    "import os\n",
    "\n",
    "import numpy as np\n",
    "import pandas as pd\n",
    "from scipy.sparse import csr_matrix\n",
    "from sklearn.model_selection import train_test_split\n",
    "\n",
    "from matrixfactor import MatrixFactorization\n",
    "from utils import create_x, preprocess_clicked, read_impressions_tsv\n"
   ]
  },
  {
   "cell_type": "code",
   "execution_count": null,
   "metadata": {},
   "outputs": [
    {
     "name": "stdout",
     "output_type": "stream",
     "text": [
      "<class 'pandas.core.frame.DataFrame'>\n",
      "RangeIndex: 100000 entries, 0 to 99999\n",
      "Data columns (total 3 columns):\n",
      " #   Column  Non-Null Count   Dtype\n",
      "---  ------  --------------   -----\n",
      " 0   userId  100000 non-null  int64\n",
      " 1   newsId  100000 non-null  int64\n",
      " 2   click   100000 non-null  int64\n",
      "dtypes: int64(3)\n",
      "memory usage: 2.3 MB\n",
      "None\n"
     ]
    }
   ],
   "source": [
    "## Step 0: Prepare data\n",
    "\n",
    "impressions = read_impressions_tsv(\"../MIND/train/behaviors.tsv\")\n",
    "impressions = preprocess_clicked(impressions)\n",
    "\n",
    "print(impressions.info())\n",
    "\n",
    "# Create sparse matrix and mappers\n",
    "X, uid2index, nid2index, index2uid, index2nid = create_x(impressions)"
   ]
  },
  {
   "cell_type": "code",
   "execution_count": 3,
   "metadata": {},
   "outputs": [
    {
     "name": "stderr",
     "output_type": "stream",
     "text": [
      "/home/sondre/projects/anbefaling/recommenders/venv/lib/python3.12/site-packages/scipy/sparse/_index.py:108: SparseEfficiencyWarning: Changing the sparsity structure of a csr_matrix is expensive. lil_matrix is more efficient.\n",
      "  self._set_intXint(row, col, x.flat[0])\n"
     ]
    },
    {
     "name": "stdout",
     "output_type": "stream",
     "text": [
      "Test RMSE: 0.7204859722594643\n"
     ]
    }
   ],
   "source": [
    "# Step 1: Factorize\n",
    "from temp import train_test_split_matrix\n",
    "\n",
    "\n",
    "X_train, X_test = train_test_split_matrix(X)\n",
    "\n",
    "k=10\n",
    "alpha=0.01\n",
    "beta=0.01\n",
    "iterations=20\n",
    "\n",
    "# Create and train model\n",
    "model = MatrixFactorization(X_train, k, alpha, beta, iterations)\n",
    "model.train()\n",
    "\n",
    "# Calculate RMSE on test data\n",
    "test_rmse = model.rmse()\n",
    "print(f\"Test RMSE: {test_rmse}\")"
   ]
  },
  {
   "cell_type": "code",
   "execution_count": 4,
   "metadata": {},
   "outputs": [
    {
     "name": "stdout",
     "output_type": "stream",
     "text": [
      "Top recommendations for user 13740:\n",
      "News ID: 7821, Score: 0.7513\n",
      "News ID: 38779, Score: 0.7078\n",
      "News ID: 32544, Score: 0.6300\n",
      "News ID: 1539, Score: 0.5945\n",
      "News ID: 23414, Score: 0.5361\n",
      "News ID: 27581, Score: 0.5241\n",
      "News ID: 47061, Score: 0.5181\n",
      "News ID: 43502, Score: 0.4812\n",
      "News ID: 48759, Score: 0.4641\n",
      "News ID: 42977, Score: 0.4588\n"
     ]
    }
   ],
   "source": [
    "\n",
    "# Get recommendations for a user\n",
    "from temp import get_recommendations_for_user\n",
    "\n",
    "\n",
    "user_id = impressions[\"userId\"].iloc[0]  # Example: first user in the dataset\n",
    "recommendations = get_recommendations_for_user(user_id, model, uid2index, nid2index, index2nid)\n",
    "\n",
    "print(f\"Top recommendations for user {user_id}:\")\n",
    "for news_id, score in recommendations:\n",
    "    print(f\"News ID: {news_id}, Score: {score:.4f}\")"
   ]
  }
 ],
 "metadata": {
  "kernelspec": {
   "display_name": "venv",
   "language": "python",
   "name": "python3"
  },
  "language_info": {
   "codemirror_mode": {
    "name": "ipython",
    "version": 3
   },
   "file_extension": ".py",
   "mimetype": "text/x-python",
   "name": "python",
   "nbconvert_exporter": "python",
   "pygments_lexer": "ipython3",
   "version": "3.12.3"
  }
 },
 "nbformat": 4,
 "nbformat_minor": 2
}
