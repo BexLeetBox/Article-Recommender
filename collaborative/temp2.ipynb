{
 "cells": [
  {
   "cell_type": "code",
   "execution_count": 1,
   "metadata": {},
   "outputs": [],
   "source": [
    "import pandas as pd\n",
    "import numpy as np\n",
    "from pandas import DataFrame\n",
    "\n",
    "from scipy.sparse import csr_matrix\n"
   ]
  },
  {
   "cell_type": "code",
   "execution_count": 2,
   "metadata": {},
   "outputs": [],
   "source": [
    "\n",
    "raw_impressions = pd.read_csv(\n",
    "    \"../MIND/train/behaviors.tsv\",\n",
    "    sep='\\t',\n",
    "    header=None,\n",
    "    names=[\"impressionId\", \"userId\", \"time\", \"history\", \"impressions\"],\n",
    "    usecols=[\"userId\", \"history\", \"impressions\"]\n",
    "  )"
   ]
  },
  {
   "cell_type": "code",
   "execution_count": 3,
   "metadata": {},
   "outputs": [
    {
     "name": "stderr",
     "output_type": "stream",
     "text": [
      "/tmp/ipykernel_189431/904933418.py:21: SettingWithCopyWarning: \n",
      "A value is trying to be set on a copy of a slice from a DataFrame.\n",
      "Try using .loc[row_indexer,col_indexer] = value instead\n",
      "\n",
      "See the caveats in the documentation: https://pandas.pydata.org/pandas-docs/stable/user_guide/indexing.html#returning-a-view-versus-a-copy\n",
      "  impressions[\"newsId\"] = impressions.apply(combine_interractions, axis=1)\n"
     ]
    }
   ],
   "source": [
    "import re\n",
    "\n",
    "impressions = raw_impressions\n",
    "\n",
    "def split_clicked(x):\n",
    "  m = re.findall(r\"(\\w+)-1\", x)\n",
    "  if not m:\n",
    "    raise Exception(\"didn't find news id\")\n",
    "  return m\n",
    "\n",
    "\n",
    "\n",
    "def combine_interractions(x):\n",
    "  history = x[\"history\"].split(\" \")\n",
    "  clicked = re.findall(r\"(\\w+)-1\", x[\"impressions\"])\n",
    "  return history + clicked\n",
    "\n",
    "\n",
    "impressions = impressions.dropna()\n",
    "\n",
    "impressions[\"newsId\"] = impressions.apply(combine_interractions, axis=1)\n",
    "impressions = impressions.explode(\"newsId\").reset_index()\n",
    "impressions = impressions.head(10_000)\n",
    "\n",
    "impressions[\"click\"] = 1\n",
    "\n",
    "impressions = impressions[[\"userId\", \"newsId\", \"click\"]]\n"
   ]
  },
  {
   "cell_type": "code",
   "execution_count": null,
   "metadata": {},
   "outputs": [],
   "source": [
    "# Make sparse user-item matrix \n",
    "\n",
    "from collab_utils import create_x\n",
    "\n",
    "\n",
    "X, uid2index, nid2index, index2uid, index2nid = create_x(impressions)"
   ]
  },
  {
   "cell_type": "code",
   "execution_count": 6,
   "metadata": {},
   "outputs": [],
   "source": [
    "from matrixfactor import MatrixFactorization\n",
    "\n",
    "\n",
    "model = MatrixFactorization(X)\n",
    "model.train()"
   ]
  },
  {
   "cell_type": "code",
   "execution_count": 21,
   "metadata": {},
   "outputs": [
    {
     "ename": "IndexError",
     "evalue": "only integers, slices (`:`), ellipsis (`...`), numpy.newaxis (`None`) and integer or boolean arrays are valid indices",
     "output_type": "error",
     "traceback": [
      "\u001b[0;31m---------------------------------------------------------------------------\u001b[0m",
      "\u001b[0;31mIndexError\u001b[0m                                Traceback (most recent call last)",
      "Cell \u001b[0;32mIn[21], line 16\u001b[0m\n\u001b[1;32m     11\u001b[0m \u001b[38;5;28;01mimport\u001b[39;00m\u001b[38;5;250m \u001b[39m\u001b[38;5;21;01mimportlib\u001b[39;00m\n\u001b[1;32m     13\u001b[0m importlib\u001b[38;5;241m.\u001b[39mreload(utils\u001b[38;5;241m.\u001b[39mevaluation)  \u001b[38;5;66;03m# Reload after modifying the file\u001b[39;00m\n\u001b[0;32m---> 16\u001b[0m \u001b[43mutils\u001b[49m\u001b[38;5;241;43m.\u001b[39;49m\u001b[43mevaluation\u001b[49m\u001b[38;5;241;43m.\u001b[39;49m\u001b[43mevaluate_model\u001b[49m\u001b[43m(\u001b[49m\u001b[43mmodel\u001b[49m\u001b[43m,\u001b[49m\u001b[43m \u001b[49m\u001b[43mraw_impressions\u001b[49m\u001b[43m)\u001b[49m\n",
      "File \u001b[0;32m~/projects/anbefaling/recommenders/utils/evaluation.py:81\u001b[0m, in \u001b[0;36mevaluate_model\u001b[0;34m(recommender, behaviors_df, K)\u001b[0m\n\u001b[1;32m     78\u001b[0m     \u001b[38;5;28;01mcontinue\u001b[39;00m\n\u001b[1;32m     80\u001b[0m \u001b[38;5;66;03m# Get recommendations from the model\u001b[39;00m\n\u001b[0;32m---> 81\u001b[0m recommended \u001b[38;5;241m=\u001b[39m \u001b[43mrecommender\u001b[49m\u001b[38;5;241;43m.\u001b[39;49m\u001b[43mrecommend\u001b[49m\u001b[43m(\u001b[49m\u001b[43muser_id\u001b[49m\u001b[43m,\u001b[49m\u001b[43m \u001b[49m\u001b[43mN\u001b[49m\u001b[38;5;241;43m=\u001b[39;49m\u001b[43mK\u001b[49m\u001b[43m)\u001b[49m \u001b[38;5;129;01mor\u001b[39;00m []\n\u001b[1;32m     82\u001b[0m recommended \u001b[38;5;241m=\u001b[39m recommended[:K]\n\u001b[1;32m     84\u001b[0m ndcg_scores\u001b[38;5;241m.\u001b[39mappend(ndcg_at_k(recommended, actual_clicked, K))\n",
      "File \u001b[0;32m~/projects/anbefaling/recommenders/collaborative/matrixfactor.py:81\u001b[0m, in \u001b[0;36mMatrixFactorization.recommend\u001b[0;34m(self, user_id, N)\u001b[0m\n\u001b[1;32m     63\u001b[0m \u001b[38;5;28;01mdef\u001b[39;00m\u001b[38;5;250m \u001b[39m\u001b[38;5;21mrecommend\u001b[39m(\u001b[38;5;28mself\u001b[39m, user_id, N\u001b[38;5;241m=\u001b[39m\u001b[38;5;241m10\u001b[39m):\n\u001b[1;32m     64\u001b[0m \u001b[38;5;250m    \u001b[39m\u001b[38;5;124;03m\"\"\"\u001b[39;00m\n\u001b[1;32m     65\u001b[0m \u001b[38;5;124;03m    Recommend top N items for a user\u001b[39;00m\n\u001b[1;32m     66\u001b[0m \u001b[38;5;124;03m    \u001b[39;00m\n\u001b[0;32m   (...)\u001b[0m\n\u001b[1;32m     79\u001b[0m \u001b[38;5;124;03m        List of tuples (item_idx, predicted_score)\u001b[39;00m\n\u001b[1;32m     80\u001b[0m \u001b[38;5;124;03m    \"\"\"\u001b[39;00m\n\u001b[0;32m---> 81\u001b[0m     predictions \u001b[38;5;241m=\u001b[39m \u001b[38;5;28;43mself\u001b[39;49m\u001b[38;5;241;43m.\u001b[39;49m\u001b[43mP\u001b[49m\u001b[43m[\u001b[49m\u001b[43muser_id\u001b[49m\u001b[43m]\u001b[49m\u001b[38;5;241m.\u001b[39mdot(\u001b[38;5;28mself\u001b[39m\u001b[38;5;241m.\u001b[39mQ\u001b[38;5;241m.\u001b[39mT)\n\u001b[1;32m     83\u001b[0m     clicked_items \u001b[38;5;241m=\u001b[39m \u001b[38;5;28mself\u001b[39m\u001b[38;5;241m.\u001b[39mX[user_id]\u001b[38;5;241m.\u001b[39mindices\n\u001b[1;32m     85\u001b[0m     \u001b[38;5;66;03m# Set predictions for those items to negative infinity\u001b[39;00m\n",
      "\u001b[0;31mIndexError\u001b[0m: only integers, slices (`:`), ellipsis (`...`), numpy.newaxis (`None`) and integer or boolean arrays are valid indices"
     ]
    }
   ],
   "source": [
    "import sys\n",
    "import os\n",
    "\n",
    "# Get the parent directory\n",
    "parent_dir = os.path.abspath(os.path.join(os.getcwd(), \"..\"))\n",
    "\n",
    "# Add it to sys.path\n",
    "sys.path.insert(0, parent_dir)\n",
    "\n",
    "import utils.evaluation  # Import the module\n",
    "import importlib\n",
    "\n",
    "importlib.reload(utils.evaluation)  # Reload after modifying the file\n",
    "\n",
    "\n",
    "utils.evaluation.evaluate_model(model, raw_impressions)"
   ]
  }
 ],
 "metadata": {
  "kernelspec": {
   "display_name": "venv",
   "language": "python",
   "name": "python3"
  },
  "language_info": {
   "codemirror_mode": {
    "name": "ipython",
    "version": 3
   },
   "file_extension": ".py",
   "mimetype": "text/x-python",
   "name": "python",
   "nbconvert_exporter": "python",
   "pygments_lexer": "ipython3",
   "version": "3.12.3"
  }
 },
 "nbformat": 4,
 "nbformat_minor": 2
}
