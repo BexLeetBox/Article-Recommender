{
    "cells": [
        {
            "cell_type": "markdown",
            "metadata": {},
            "source": [
                "<i>Adapted from Recommenders ALS example</i>"
            ]
        },
        {
            "cell_type": "markdown",
            "metadata": {},
            "source": [
                "# Running ALS on MIND (with PySpark)\n",
                "\n",
                "Matrix factorization by [ALS](https://spark.apache.org/docs/latest/api/python/_modules/pyspark/ml/recommendation.html#ALS) (Alternating Least Squares) is a well known collaborative filtering algorithm.\n",
                "\n",
                "This notebook provides an example of how to utilize and evaluate ALS PySpark ML (DataFrame-based API) implementation, meant for large-scale distributed datasets."
            ]
        },
        {
            "cell_type": "code",
            "execution_count": 1,
            "metadata": {},
            "outputs": [
                {
                    "name": "stdout",
                    "output_type": "stream",
                    "text": [
                        "System version: 3.12.3 (main, Jan 17 2025, 18:03:48) [GCC 13.3.0]\n",
                        "Spark version: 3.5.4\n"
                    ]
                }
            ],
            "source": [
                "import warnings\n",
                "warnings.simplefilter(action='ignore', category=FutureWarning)\n",
                "\n",
                "import os\n",
                "import sys\n",
                "import pyspark\n",
                "from pyspark.ml.recommendation import ALS\n",
                "import pyspark.sql.functions as F\n",
                "from pyspark.sql.types import StructType, StructField\n",
                "from pyspark.sql.types import StringType, IntegerType\n",
                "\n",
                "from recommenders.utils.timer import Timer\n",
                "from recommenders.datasets.spark_splitters import spark_random_split\n",
                "from recommenders.evaluation.spark_evaluation import SparkRatingEvaluation, SparkRankingEvaluation\n",
                "from recommenders.utils.spark_utils import start_or_get_spark\n",
                "\n",
                "from tempfile import TemporaryDirectory\n",
                "from recommenders.datasets.mind import download_mind\n",
                "from recommenders.datasets.download_utils import unzip_file\n",
                "\n",
                "print(f\"System version: {sys.version}\")\n",
                "print(\"Spark version: {}\".format(pyspark.__version__))\n"
            ]
        },
        {
            "cell_type": "markdown",
            "metadata": {},
            "source": [
                "Set the default parameters."
            ]
        },
        {
            "cell_type": "code",
            "execution_count": 2,
            "metadata": {
                "tags": [
                    "parameters"
                ]
            },
            "outputs": [],
            "source": [
                "# top k items to recommend\n",
                "TOP_K = 10\n",
                "\n",
                "# MIND sizes: \"demo\", \"small\", or \"large\"\n",
                "mind_type = 'demo'\n",
                "\n",
                "# Column names for the dataset\n",
                "COL_USER = \"user_id\"\n",
                "COL_ITEM = \"news_id\"\n",
                "COL_RATING = \"rating\""
            ]
        },
        {
            "cell_type": "markdown",
            "metadata": {},
            "source": [
                "### 0. Set up Spark context & directory\n",
                "\n",
                "The following settings work well for debugging locally on VM - change when running on a cluster. We set up a giant single executor with many threads and specify memory cap. "
            ]
        },
        {
            "cell_type": "code",
            "execution_count": 16,
            "metadata": {},
            "outputs": [],
            "source": [
                "# the following settings work well for debugging locally on VM - change when running on a cluster\n",
                "# set up a giant single executor with many threads and specify memory cap\n",
                "spark = start_or_get_spark(\"ALS PySpark\", memory=\"16g\")\n",
                "spark.conf.set(\"spark.sql.analyzer.failAmbiguousSelfJoin\", \"false\")"
            ]
        },
        {
            "cell_type": "code",
            "execution_count": 4,
            "metadata": {},
            "outputs": [
                {
                    "name": "stderr",
                    "output_type": "stream",
                    "text": [
                        " 15%|█▌        | 2.62k/17.0k [00:01<00:08, 1.70kKB/s]25/02/10 13:38:20 WARN GarbageCollectionMetrics: To enable non-built-in garbage collector(s) List(G1 Concurrent GC), users should configure it(them) to spark.eventLog.gcMetrics.youngGenerationGarbageCollectors or spark.eventLog.gcMetrics.oldGenerationGarbageCollectors\n",
                        "100%|██████████| 17.0k/17.0k [00:08<00:00, 2.12kKB/s]\n",
                        "100%|██████████| 9.84k/9.84k [00:03<00:00, 2.89kKB/s]\n"
                    ]
                }
            ],
            "source": [
                "# Setup data storage location\n",
                "\n",
                "tmpdir = TemporaryDirectory()\n",
                "data_path = tmpdir.name\n",
                "train_zip, valid_zip = download_mind(size=mind_type, dest_path=data_path)\n",
                "unzip_file(train_zip, os.path.join(data_path, 'train'), clean_zip_file=False)\n",
                "unzip_file(valid_zip, os.path.join(data_path, 'valid'), clean_zip_file=False)\n",
                "train_behaviors_path = os.path.join(data_path, \"train\", \"behaviors.tsv\")"
            ]
        },
        {
            "cell_type": "markdown",
            "metadata": {},
            "source": [
                "### 1. Download the MIND dataset"
            ]
        },
        {
            "cell_type": "code",
            "execution_count": 5,
            "metadata": {},
            "outputs": [
                {
                    "name": "stdout",
                    "output_type": "stream",
                    "text": [
                        "+---------+-----------+------+\n",
                        "|  user_id|    news_id|rating|\n",
                        "+---------+-----------+------+\n",
                        "|641278344| 1572667918|     0|\n",
                        "|641278344|-1179971679|     0|\n",
                        "|641278344|-1588919390|     0|\n",
                        "|641278344| -704032733|     0|\n",
                        "|641278344| -945553399|     0|\n",
                        "|641278344|  206958755|     0|\n",
                        "|641278344| -473001627|     0|\n",
                        "|641278344|-1578886272|     0|\n",
                        "|641278344| 1343085119|     0|\n",
                        "|641278344|  584181417|     0|\n",
                        "|641278344|-1875555226|     0|\n",
                        "|641278344| -146224004|     0|\n",
                        "|641278344| 1885426536|     0|\n",
                        "|641278344|-1471141211|     0|\n",
                        "|641278344|  969666805|     0|\n",
                        "|641278344| -652530682|     0|\n",
                        "|641278344| 2032506888|     0|\n",
                        "|641278344| 1938754531|     0|\n",
                        "|641278344|  710941895|     0|\n",
                        "|641278344|-1433334447|     0|\n",
                        "+---------+-----------+------+\n",
                        "only showing top 20 rows\n",
                        "\n"
                    ]
                },
                {
                    "name": "stderr",
                    "output_type": "stream",
                    "text": [
                        "[Stage 1:=============================>                             (2 + 2) / 4]\r"
                    ]
                },
                {
                    "name": "stdout",
                    "output_type": "stream",
                    "text": [
                        "+------+------+\n",
                        "|rating| count|\n",
                        "+------+------+\n",
                        "|     1| 34747|\n",
                        "|     0|811630|\n",
                        "+------+------+\n",
                        "\n"
                    ]
                },
                {
                    "name": "stderr",
                    "output_type": "stream",
                    "text": [
                        "                                                                                \r"
                    ]
                }
            ],
            "source": [
                "# Schema for behaviors.tsv\n",
                "schema = StructType([\n",
                "    StructField(\"impression_id\", StringType(), True),  # Ignored for ALS\n",
                "    StructField(COL_USER, StringType(), True),  # Will be converted later\n",
                "    StructField(\"timestamp\", StringType(), True),  # Convert to long if needed\n",
                "    StructField(\"history\", StringType(), True),  # List of past clicked news\n",
                "    StructField(\"impressions\", StringType(), True)  # Needs to be split into news_id + rating\n",
                "])\n",
                "\n",
                "# Load raw behaviors.tsv\n",
                "data = (\n",
                "    spark.read.option(\"sep\", \"\\t\").option(\"header\", \"false\")\n",
                "    .schema(schema)\n",
                "    .csv(train_behaviors_path)\n",
                ")\n",
                "\n",
                "# Split impressions column (\"n4-1 n5-0 n6-1\") into separate rows\n",
                "data = data.withColumn(\"impressions\", F.explode(F.split(F.col(\"impressions\"), \" \")))\n",
                "\n",
                "# Extract news_id and click status (e.g., \"n4-1\" → news_id=\"n4\", rating=1)\n",
                "data = data.withColumn(COL_ITEM, F.split(F.col(\"impressions\"), \"-\")[0])\n",
                "data = data.withColumn(COL_RATING, F.split(F.col(\"impressions\"), \"-\")[1].cast(IntegerType()))\n",
                "\n",
                "# Convert user_id and news_id to integers (ALS requires numeric IDs)\n",
                "data = data.withColumn(COL_USER, F.hash(COL_USER).cast(IntegerType()))\n",
                "data = data.withColumn(COL_ITEM, F.hash(COL_ITEM).cast(IntegerType()))\n",
                "\n",
                "# Drop unnecessary columns\n",
                "data = data.select(COL_USER, COL_ITEM, COL_RATING)\n",
                "\n",
                "# Show transformed data\n",
                "data.show()\n",
                "data.groupBy(COL_RATING).count().show()\n"
            ]
        },
        {
            "cell_type": "markdown",
            "metadata": {},
            "source": [
                "### 2. Split the data using the Spark random splitter provided in utilities"
            ]
        },
        {
            "cell_type": "code",
            "execution_count": 6,
            "metadata": {},
            "outputs": [
                {
                    "name": "stderr",
                    "output_type": "stream",
                    "text": [
                        "                                                                                \r"
                    ]
                },
                {
                    "name": "stdout",
                    "output_type": "stream",
                    "text": [
                        "N train 634960\n"
                    ]
                },
                {
                    "name": "stderr",
                    "output_type": "stream",
                    "text": [
                        "[Stage 8:==============>                                            (1 + 3) / 4]\r"
                    ]
                },
                {
                    "name": "stdout",
                    "output_type": "stream",
                    "text": [
                        "N test 211417\n"
                    ]
                },
                {
                    "name": "stderr",
                    "output_type": "stream",
                    "text": [
                        "                                                                                \r"
                    ]
                }
            ],
            "source": [
                "train, test = spark_random_split(data, ratio=0.75, seed=123)\n",
                "print (\"N train\", train.cache().count())\n",
                "print (\"N test\", test.cache().count())"
            ]
        },
        {
            "cell_type": "markdown",
            "metadata": {},
            "source": [
                "### 3. Train the ALS model on the training data, and get the top-k recommendations for our testing data\n",
                "\n",
                "To article interactions movie ratings, we use the rating data in the training set as users' explicit feedback."
            ]
        },
        {
            "cell_type": "code",
            "execution_count": 7,
            "metadata": {},
            "outputs": [],
            "source": [
                "header = {\n",
                "    \"userCol\": COL_USER,\n",
                "    \"itemCol\": COL_ITEM,\n",
                "    \"ratingCol\": COL_RATING,\n",
                "}\n",
                "\n",
                "\n",
                "als = ALS(\n",
                "    rank=10,\n",
                "    maxIter=15,\n",
                "    implicitPrefs=False,\n",
                "    regParam=0.05,\n",
                "    coldStartStrategy='drop',\n",
                "    nonnegative=False,\n",
                "    seed=42,\n",
                "    **header\n",
                ")"
            ]
        },
        {
            "cell_type": "code",
            "execution_count": 8,
            "metadata": {},
            "outputs": [
                {
                    "name": "stderr",
                    "output_type": "stream",
                    "text": [
                        "25/02/10 13:39:35 WARN InstanceBuilder: Failed to load implementation from:dev.ludovic.netlib.blas.VectorBLAS\n",
                        "                                                                                \r"
                    ]
                },
                {
                    "name": "stdout",
                    "output_type": "stream",
                    "text": [
                        "Took 15.069147076999798 seconds for training.\n"
                    ]
                }
            ],
            "source": [
                "with Timer() as train_time:\n",
                "    model = als.fit(train)\n",
                "\n",
                "print(f\"Took {train_time.interval} seconds for training.\")"
            ]
        },
        {
            "cell_type": "markdown",
            "metadata": {},
            "source": [
                "In the movie recommendation use case, recommending movies that have been rated by the users do not make sense. Therefore, the rated movies are removed from the recommended items.\n",
                "\n",
                "In order to achieve this, we recommend all movies to all users, and then remove the user-movie pairs that exist in the training dataset."
            ]
        },
        {
            "cell_type": "code",
            "execution_count": 9,
            "metadata": {},
            "outputs": [
                {
                    "name": "stderr",
                    "output_type": "stream",
                    "text": [
                        "25/02/10 13:40:02 WARN Column: Constructing trivially true equals predicate, 'user_id#33 = user_id#33'. Perhaps you need to use aliases.\n",
                        "25/02/10 13:40:02 WARN Column: Constructing trivially true equals predicate, 'news_id#41 = news_id#41'. Perhaps you need to use aliases.\n",
                        "[Stage 172:==============================================>      (176 + 9) / 200]\r"
                    ]
                },
                {
                    "name": "stdout",
                    "output_type": "stream",
                    "text": [
                        "Took 158.32637336300104 seconds for prediction.\n"
                    ]
                },
                {
                    "name": "stderr",
                    "output_type": "stream",
                    "text": [
                        "                                                                                \r"
                    ]
                }
            ],
            "source": [
                "with Timer() as test_time:\n",
                "\n",
                "    # Get the cross join of all user-item pairs and score them.\n",
                "    users = train.select(COL_USER).distinct()\n",
                "    items = train.select(COL_ITEM).distinct()\n",
                "    user_item = users.crossJoin(items)\n",
                "    dfs_pred = model.transform(user_item)\n",
                "\n",
                "    # Remove seen items.\n",
                "    dfs_pred_exclude_train = dfs_pred.alias(\"pred\").join(\n",
                "        train.alias(\"train\"),\n",
                "        (dfs_pred[COL_USER] == train[COL_USER]) & (dfs_pred[COL_ITEM] == train[COL_ITEM]),\n",
                "        how='outer'\n",
                "    )\n",
                "\n",
                "    top_all = dfs_pred_exclude_train.filter(dfs_pred_exclude_train[f\"train.{COL_RATING}\"].isNull()) \\\n",
                "        .select('pred.' + COL_USER, 'pred.' + COL_ITEM, 'pred.' + \"prediction\")\n",
                "\n",
                "    # In Spark, transformations are lazy evaluation\n",
                "    # Use an action to force execute and measure the test time \n",
                "    top_all.cache().count()\n",
                "\n",
                "print(f\"Took {test_time.interval} seconds for prediction.\")"
            ]
        },
        {
            "cell_type": "code",
            "execution_count": 10,
            "metadata": {},
            "outputs": [
                {
                    "name": "stdout",
                    "output_type": "stream",
                    "text": [
                        "+-----------+-----------+------------+\n",
                        "|    user_id|    news_id|  prediction|\n",
                        "+-----------+-----------+------------+\n",
                        "|-2147037735|-2121750872|         0.0|\n",
                        "|-2147037735|-2106887980|         0.0|\n",
                        "|-2147037735|-2043278394| 0.001307607|\n",
                        "|-2147037735|-2037856057|         0.0|\n",
                        "|-2147037735|-1896789963|         0.0|\n",
                        "|-2147037735|-1867395284|         0.0|\n",
                        "|-2147037735|-1863699942|0.0029707374|\n",
                        "|-2147037735|-1824052933|         0.0|\n",
                        "|-2147037735|-1794496239|0.0067589157|\n",
                        "|-2147037735|-1702684571|         0.0|\n",
                        "|-2147037735|-1699973722|         0.0|\n",
                        "|-2147037735|-1584119234| 8.228555E-4|\n",
                        "|-2147037735|-1545121822|         0.0|\n",
                        "|-2147037735|-1493080894| 0.006497734|\n",
                        "|-2147037735|-1362864834|         0.0|\n",
                        "|-2147037735|-1344848052|         0.0|\n",
                        "|-2147037735|-1126679957|         0.0|\n",
                        "|-2147037735|-1034258104| 0.051721632|\n",
                        "|-2147037735|-1004796837|  0.04036267|\n",
                        "|-2147037735| -999960394|         0.0|\n",
                        "+-----------+-----------+------------+\n",
                        "only showing top 20 rows\n",
                        "\n"
                    ]
                }
            ],
            "source": [
                "top_all.show()"
            ]
        },
        {
            "cell_type": "markdown",
            "metadata": {},
            "source": [
                "### 4. Evaluate how well ALS performs"
            ]
        },
        {
            "cell_type": "code",
            "execution_count": 11,
            "metadata": {},
            "outputs": [
                {
                    "name": "stderr",
                    "output_type": "stream",
                    "text": [
                        "                                                                                \r"
                    ]
                }
            ],
            "source": [
                "rank_eval = SparkRankingEvaluation(test, top_all, k = TOP_K, col_user=COL_USER, col_item=COL_ITEM, \n",
                "                                    col_rating=COL_RATING, col_prediction=\"prediction\", \n",
                "                                    relevancy_method=\"top_k\")"
            ]
        },
        {
            "cell_type": "code",
            "execution_count": 12,
            "metadata": {},
            "outputs": [
                {
                    "name": "stderr",
                    "output_type": "stream",
                    "text": [
                        "[Stage 213:==================================================>      (8 + 1) / 9]\r"
                    ]
                },
                {
                    "name": "stdout",
                    "output_type": "stream",
                    "text": [
                        "Model:\tALS\n",
                        "Top K:\t10\n",
                        "MAP:\t0.000041\n",
                        "NDCG:\t0.000069\n",
                        "Precision@K:\t0.000020\n",
                        "Recall@K:\t0.000041\n"
                    ]
                },
                {
                    "name": "stderr",
                    "output_type": "stream",
                    "text": [
                        "                                                                                \r"
                    ]
                }
            ],
            "source": [
                "print(\"Model:\\tALS\",\n",
                "      \"Top K:\\t%d\" % rank_eval.k,\n",
                "      \"MAP:\\t%f\" % rank_eval.map_at_k(),\n",
                "      \"NDCG:\\t%f\" % rank_eval.ndcg_at_k(),\n",
                "      \"Precision@K:\\t%f\" % rank_eval.precision_at_k(),\n",
                "      \"Recall@K:\\t%f\" % rank_eval.recall_at_k(), sep='\\n')"
            ]
        },
        {
            "cell_type": "markdown",
            "metadata": {},
            "source": [
                "### 5. Evaluate rating prediction"
            ]
        },
        {
            "cell_type": "code",
            "execution_count": 13,
            "metadata": {},
            "outputs": [
                {
                    "name": "stderr",
                    "output_type": "stream",
                    "text": [
                        "[Stage 288:===============================================>     (179 + 8) / 200]\r"
                    ]
                },
                {
                    "name": "stdout",
                    "output_type": "stream",
                    "text": [
                        "+-----------+-----------+------+------------+\n",
                        "|    user_id|    news_id|rating|  prediction|\n",
                        "+-----------+-----------+------+------------+\n",
                        "|-1713021867|-1560029370|     0|  0.06315659|\n",
                        "|-1713021867|-1080198752|     0|  0.20678647|\n",
                        "|-1713021867| -903223166|     1|  0.03217992|\n",
                        "|-1713021867| -513306611|     0|  0.10695357|\n",
                        "|-1482601076|-2090215252|     0| 0.006467443|\n",
                        "|-1482601076|-1793048640|     0|0.0106193535|\n",
                        "|-1482601076|-1755588721|     0|         0.0|\n",
                        "|-1482601076|-1688951603|     0|0.0066513084|\n",
                        "|-1482601076|-1677718748|     0| 0.016954418|\n",
                        "|-1482601076|-1560029370|     0| 0.019275913|\n",
                        "|-1482601076| -674018655|     0|0.0037705882|\n",
                        "|-1482601076| -560679498|     0| 0.013008596|\n",
                        "|-1482601076| -553221724|     0| 0.011344071|\n",
                        "|-1482601076| -547306936|     0| 0.010215879|\n",
                        "|-1482601076| -289872533|     0|         0.0|\n",
                        "|-1482601076| -199816989|     0| 0.004642839|\n",
                        "|-1482601076| -189976086|     0| 0.010997589|\n",
                        "|-1482601076| -155987723|     0| 0.016828649|\n",
                        "|-1482601076| -129293393|     0|   0.0470226|\n",
                        "|-1482601076| -113290410|     0|  0.02959064|\n",
                        "+-----------+-----------+------+------------+\n",
                        "only showing top 20 rows\n",
                        "\n"
                    ]
                },
                {
                    "name": "stderr",
                    "output_type": "stream",
                    "text": [
                        "                                                                                \r"
                    ]
                }
            ],
            "source": [
                "# Generate predicted ratings.\n",
                "prediction = model.transform(test)\n",
                "prediction.cache().show()\n"
            ]
        },
        {
            "cell_type": "code",
            "execution_count": 14,
            "metadata": {},
            "outputs": [
                {
                    "name": "stderr",
                    "output_type": "stream",
                    "text": [
                        "                                                                                \r"
                    ]
                },
                {
                    "name": "stdout",
                    "output_type": "stream",
                    "text": [
                        "Model:\tALS rating prediction\n",
                        "RMSE:\t0.194057\n",
                        "MAE:\t0.047414\n",
                        "Explained variance:\t0.019782\n",
                        "R squared:\t-0.002237\n"
                    ]
                },
                {
                    "name": "stderr",
                    "output_type": "stream",
                    "text": [
                        "                                                                                \r"
                    ]
                }
            ],
            "source": [
                "rating_eval = SparkRatingEvaluation(test, prediction, col_user=COL_USER, col_item=COL_ITEM, \n",
                "                                    col_rating=COL_RATING, col_prediction=\"prediction\")\n",
                "\n",
                "print(\"Model:\\tALS rating prediction\",\n",
                "      \"RMSE:\\t%f\" % rating_eval.rmse(),\n",
                "      \"MAE:\\t%f\" % rating_eval.mae(),\n",
                "      \"Explained variance:\\t%f\" % rating_eval.exp_var(),\n",
                "      \"R squared:\\t%f\" % rating_eval.rsquared(), sep='\\n')"
            ]
        },
        {
            "cell_type": "code",
            "execution_count": 15,
            "metadata": {},
            "outputs": [],
            "source": [
                "# cleanup spark instance and clear temp directory\n",
                "spark.stop()\n",
                "tmpdir.cleanup()"
            ]
        },
        {
            "cell_type": "markdown",
            "metadata": {},
            "source": [
                "### 6. Changes over time\n",
                "\n",
                "#### Attempt 0 - no modifications\n",
                "\n",
                "Model:\tALS\n",
                "Top K:\t10\n",
                "MAP:\t0.000041\n",
                "NDCG:\t0.000069\n",
                "Precision@K:\t0.000020\n",
                "Recall@K:\t0.000041\n",
                "\n",
                "Model:\tALS rating prediction\n",
                "RMSE:\t0.194057\n",
                "MAE:\t0.047414\n",
                "Explained variance:\t0.019782\n",
                "R squared:\t-0.002237\n",
                "\n",
                "These extremely low metrics might be due to the dataset mostly being made up of non-interactions. Possible changes:\n",
                "- Remove articles with low engagement\n",
                "- Tune hyperparameters: increase rank, decrease regParam, and change alpha\n",
                "- Convert data to implicit feedback"
            ]
        }
    ],
    "metadata": {
        "kernelspec": {
            "display_name": "venv",
            "language": "python",
            "name": "python3"
        },
        "language_info": {
            "codemirror_mode": {
                "name": "ipython",
                "version": 3
            },
            "file_extension": ".py",
            "mimetype": "text/x-python",
            "name": "python",
            "nbconvert_exporter": "python",
            "pygments_lexer": "ipython3",
            "version": "3.12.3"
        }
    },
    "nbformat": 4,
    "nbformat_minor": 1
}
