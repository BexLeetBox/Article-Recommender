{
    "cells": [
        {
            "cell_type": "markdown",
            "metadata": {},
            "source": [
                "<i>Adapted from Recommenders ALS example</i>"
            ]
        },
        {
            "cell_type": "markdown",
            "metadata": {},
            "source": [
                "# Running ALS on MIND (with PySpark)\n",
                "\n",
                "Matrix factorization by [ALS](https://spark.apache.org/docs/latest/api/python/_modules/pyspark/ml/recommendation.html#ALS) (Alternating Least Squares) is a well known collaborative filtering algorithm.\n",
                "\n",
                "This notebook provides an example of how to utilize and evaluate ALS PySpark ML (DataFrame-based API) implementation, meant for large-scale distributed datasets."
            ]
        },
        {
            "cell_type": "code",
            "execution_count": 39,
            "metadata": {},
            "outputs": [
                {
                    "name": "stdout",
                    "output_type": "stream",
                    "text": [
                        "System version: 3.12.3 (main, Jan 17 2025, 18:03:48) [GCC 13.3.0]\n",
                        "Spark version: 3.5.4\n"
                    ]
                }
            ],
            "source": [
                "import warnings\n",
                "warnings.simplefilter(action='ignore', category=FutureWarning)\n",
                "\n",
                "import os\n",
                "import sys\n",
                "import pyspark\n",
                "from pyspark.ml.recommendation import ALS\n",
                "import pyspark.sql.functions as F\n",
                "from pyspark.sql.types import StructType, StructField\n",
                "from pyspark.sql.types import StringType, IntegerType\n",
                "\n",
                "from recommenders.utils.timer import Timer\n",
                "from recommenders.datasets.spark_splitters import spark_random_split\n",
                "from recommenders.evaluation.spark_evaluation import SparkRatingEvaluation, SparkRankingEvaluation\n",
                "from recommenders.utils.spark_utils import start_or_get_spark\n",
                "\n",
                "from tempfile import TemporaryDirectory\n",
                "from recommenders.datasets.mind import download_mind\n",
                "from recommenders.datasets.download_utils import unzip_file\n",
                "\n",
                "print(f\"System version: {sys.version}\")\n",
                "print(\"Spark version: {}\".format(pyspark.__version__))\n"
            ]
        },
        {
            "cell_type": "markdown",
            "metadata": {},
            "source": [
                "Set the default parameters."
            ]
        },
        {
            "cell_type": "code",
            "execution_count": 18,
            "metadata": {
                "tags": [
                    "parameters"
                ]
            },
            "outputs": [],
            "source": [
                "# top k items to recommend\n",
                "TOP_K = 10\n",
                "\n",
                "# MIND sizes: \"demo\", \"small\", or \"large\"\n",
                "mind_type = 'demo'\n",
                "\n",
                "# Column names for the dataset\n",
                "COL_USER = \"user_id\"\n",
                "COL_ITEM = \"news_id\"\n",
                "COL_RATING = \"rating\""
            ]
        },
        {
            "cell_type": "markdown",
            "metadata": {},
            "source": [
                "### 0. Set up Spark context & directory\n",
                "\n",
                "The following settings work well for debugging locally on VM - change when running on a cluster. We set up a giant single executor with many threads and specify memory cap. "
            ]
        },
        {
            "cell_type": "code",
            "execution_count": 19,
            "metadata": {},
            "outputs": [],
            "source": [
                "# the following settings work well for debugging locally on VM - change when running on a cluster\n",
                "# set up a giant single executor with many threads and specify memory cap\n",
                "spark = start_or_get_spark(\"ALS PySpark\", memory=\"16g\")\n",
                "spark.conf.set(\"spark.sql.analyzer.failAmbiguousSelfJoin\", \"false\")"
            ]
        },
        {
            "cell_type": "code",
            "execution_count": 20,
            "metadata": {},
            "outputs": [
                {
                    "name": "stderr",
                    "output_type": "stream",
                    "text": [
                        "100%|██████████| 17.0k/17.0k [00:06<00:00, 2.45kKB/s]\n",
                        "100%|██████████| 9.84k/9.84k [00:04<00:00, 2.25kKB/s]\n"
                    ]
                }
            ],
            "source": [
                "# Setup data storage location\n",
                "\n",
                "tmpdir = TemporaryDirectory()\n",
                "data_path = tmpdir.name\n",
                "train_zip, valid_zip = download_mind(size=mind_type, dest_path=data_path)\n",
                "unzip_file(train_zip, os.path.join(data_path, 'train'), clean_zip_file=False)\n",
                "unzip_file(valid_zip, os.path.join(data_path, 'valid'), clean_zip_file=False)\n",
                "train_behaviors_path = os.path.join(data_path, \"train\", \"behaviors.tsv\")"
            ]
        },
        {
            "cell_type": "markdown",
            "metadata": {},
            "source": [
                "### 1. Download the MIND dataset"
            ]
        },
        {
            "cell_type": "code",
            "execution_count": 25,
            "metadata": {},
            "outputs": [
                {
                    "name": "stdout",
                    "output_type": "stream",
                    "text": [
                        "+-----------+---------+------+-----+-----+\n",
                        "|    news_id|  user_id|rating|count|count|\n",
                        "+-----------+---------+------+-----+-----+\n",
                        "| 1572667918|641278344|     0|  162| 1893|\n",
                        "|-1179971679|641278344|     0|  162|  725|\n",
                        "|-1588919390|641278344|     0|  162|  881|\n",
                        "| -704032733|641278344|     0|  162| 1269|\n",
                        "| -945553399|641278344|     0|  162|  604|\n",
                        "|  206958755|641278344|     0|  162|  391|\n",
                        "| -473001627|641278344|     0|  162|  590|\n",
                        "| 1343085119|641278344|     0|  162|  513|\n",
                        "|  584181417|641278344|     0|  162|  864|\n",
                        "|-1875555226|641278344|     0|  162| 1305|\n",
                        "| -146224004|641278344|     0|  162|   31|\n",
                        "| 1885426536|641278344|     0|  162|  937|\n",
                        "|-1471141211|641278344|     0|  162|  255|\n",
                        "|  969666805|641278344|     0|  162|  484|\n",
                        "| -652530682|641278344|     0|  162| 1523|\n",
                        "| 2032506888|641278344|     0|  162| 1486|\n",
                        "| 1938754531|641278344|     0|  162|  708|\n",
                        "|  710941895|641278344|     0|  162| 1195|\n",
                        "|-1433334447|641278344|     0|  162| 1387|\n",
                        "| 2114527946|641278344|     0|  162|  639|\n",
                        "+-----------+---------+------+-----+-----+\n",
                        "only showing top 20 rows\n",
                        "\n",
                        "+------+------+\n",
                        "|rating| count|\n",
                        "+------+------+\n",
                        "|     1| 33306|\n",
                        "|     0|790435|\n",
                        "+------+------+\n",
                        "\n"
                    ]
                }
            ],
            "source": [
                "# Schema for behaviors.tsv\n",
                "schema = StructType([\n",
                "    StructField(\"impression_id\", StringType(), True),  # Ignored for ALS\n",
                "    StructField(COL_USER, StringType(), True),  # Will be converted later\n",
                "    StructField(\"timestamp\", StringType(), True),  # Convert to long if needed\n",
                "    StructField(\"history\", StringType(), True),  # List of past clicked news\n",
                "    StructField(\"impressions\", StringType(), True)  # Needs to be split into news_id + rating\n",
                "])\n",
                "\n",
                "# Load raw behaviors.tsv\n",
                "data = (\n",
                "    spark.read.option(\"sep\", \"\\t\").option(\"header\", \"false\")\n",
                "    .schema(schema)\n",
                "    .csv(train_behaviors_path)\n",
                ")\n",
                "\n",
                "# Split impressions column (\"n4-1 n5-0 n6-1\") into separate rows\n",
                "data = data.withColumn(\"impressions\", F.explode(F.split(F.col(\"impressions\"), \" \")))\n",
                "\n",
                "# Extract news_id and click status (e.g., \"n4-1\" → news_id=\"n4\", rating=1)\n",
                "data = data.withColumn(COL_ITEM, F.split(F.col(\"impressions\"), \"-\")[0])\n",
                "data = data.withColumn(COL_RATING, F.split(F.col(\"impressions\"), \"-\")[1].cast(IntegerType()))\n",
                "\n",
                "# Convert user_id and news_id to integers (ALS requires numeric IDs)\n",
                "data = data.withColumn(COL_USER, F.hash(COL_USER).cast(IntegerType()))\n",
                "data = data.withColumn(COL_ITEM, F.hash(COL_ITEM).cast(IntegerType()))\n",
                "\n",
                "# Drop unnecessary columns\n",
                "data = data.select(COL_USER, COL_ITEM, COL_RATING)\n",
                "\n",
                "# Count and remove articles / users with few interactions\n",
                "user_counts = data.groupBy(COL_USER).count().filter(F.col(\"count\") >= 10)\n",
                "news_counts = data.groupBy(COL_ITEM).count().filter(F.col(\"count\") >= 10)\n",
                "\n",
                "data = data.join(user_counts, \"user_id\").join(news_counts, \"news_id\")\n",
                "\n",
                "\n",
                "# Show transformed data\n",
                "data.show()\n",
                "data.groupBy(COL_RATING).count().show()\n"
            ]
        },
        {
            "cell_type": "markdown",
            "metadata": {},
            "source": [
                "### 2. Split the data using the Spark random splitter provided in utilities"
            ]
        },
        {
            "cell_type": "code",
            "execution_count": 26,
            "metadata": {},
            "outputs": [
                {
                    "name": "stderr",
                    "output_type": "stream",
                    "text": [
                        "                                                                                \r"
                    ]
                },
                {
                    "name": "stdout",
                    "output_type": "stream",
                    "text": [
                        "N train 618004\n"
                    ]
                },
                {
                    "name": "stderr",
                    "output_type": "stream",
                    "text": [
                        "[Stage 105:============================>                            (2 + 2) / 4]\r"
                    ]
                },
                {
                    "name": "stdout",
                    "output_type": "stream",
                    "text": [
                        "N test 205737\n"
                    ]
                },
                {
                    "name": "stderr",
                    "output_type": "stream",
                    "text": [
                        "                                                                                \r"
                    ]
                }
            ],
            "source": [
                "train, test = spark_random_split(data, ratio=0.75, seed=123)\n",
                "print (\"N train\", train.cache().count())\n",
                "print (\"N test\", test.cache().count())"
            ]
        },
        {
            "cell_type": "markdown",
            "metadata": {},
            "source": [
                "### 3. Train the ALS model on the training data, and get the top-k recommendations for our testing data\n",
                "\n",
                "To article interactions movie ratings, we use the rating data in the training set as users' explicit feedback."
            ]
        },
        {
            "cell_type": "code",
            "execution_count": 44,
            "metadata": {},
            "outputs": [],
            "source": [
                "header = {\n",
                "    \"userCol\": COL_USER,\n",
                "    \"itemCol\": COL_ITEM,\n",
                "    \"ratingCol\": COL_RATING,\n",
                "}\n",
                "\n",
                "\n",
                "als = ALS(\n",
                "    rank=50,\n",
                "    maxIter=15,\n",
                "    implicitPrefs=True,\n",
                "    regParam=0.01,\n",
                "    coldStartStrategy='drop',\n",
                "    nonnegative=True,\n",
                "    seed=42,\n",
                "    alpha=45,\n",
                "    **header\n",
                ")"
            ]
        },
        {
            "cell_type": "code",
            "execution_count": 31,
            "metadata": {},
            "outputs": [
                {
                    "name": "stderr",
                    "output_type": "stream",
                    "text": [
                        "                                                                                \r"
                    ]
                },
                {
                    "name": "stdout",
                    "output_type": "stream",
                    "text": [
                        "Took 19.21276932500041 seconds for training.\n"
                    ]
                }
            ],
            "source": [
                "with Timer() as train_time:\n",
                "    model = als.fit(train)\n",
                "\n",
                "print(f\"Took {train_time.interval} seconds for training.\")"
            ]
        },
        {
            "cell_type": "markdown",
            "metadata": {},
            "source": [
                "In the movie recommendation use case, recommending movies that have been rated by the users do not make sense. Therefore, the rated movies are removed from the recommended items.\n",
                "\n",
                "In order to achieve this, we recommend all movies to all users, and then remove the user-movie pairs that exist in the training dataset."
            ]
        },
        {
            "cell_type": "code",
            "execution_count": 32,
            "metadata": {},
            "outputs": [
                {
                    "name": "stderr",
                    "output_type": "stream",
                    "text": [
                        "25/02/10 13:55:59 WARN Column: Constructing trivially true equals predicate, 'user_id#3230 = user_id#3230'. Perhaps you need to use aliases.\n",
                        "25/02/10 13:55:59 WARN Column: Constructing trivially true equals predicate, 'news_id#3238 = news_id#3238'. Perhaps you need to use aliases.\n",
                        "[Stage 791:======================================>             (147 + 10) / 200]\r"
                    ]
                },
                {
                    "name": "stdout",
                    "output_type": "stream",
                    "text": [
                        "Took 204.26381239799957 seconds for prediction.\n"
                    ]
                },
                {
                    "name": "stderr",
                    "output_type": "stream",
                    "text": [
                        "                                                                                \r"
                    ]
                }
            ],
            "source": [
                "with Timer() as test_time:\n",
                "\n",
                "    # Get the cross join of all user-item pairs and score them.\n",
                "    users = train.select(COL_USER).distinct()\n",
                "    items = train.select(COL_ITEM).distinct()\n",
                "    user_item = users.crossJoin(items)\n",
                "    dfs_pred = model.transform(user_item)\n",
                "\n",
                "    # Remove seen items.\n",
                "    dfs_pred_exclude_train = dfs_pred.alias(\"pred\").join(\n",
                "        train.alias(\"train\"),\n",
                "        (dfs_pred[COL_USER] == train[COL_USER]) & (dfs_pred[COL_ITEM] == train[COL_ITEM]),\n",
                "        how='outer'\n",
                "    )\n",
                "\n",
                "    top_all = dfs_pred_exclude_train.filter(dfs_pred_exclude_train[f\"train.{COL_RATING}\"].isNull()) \\\n",
                "        .select('pred.' + COL_USER, 'pred.' + COL_ITEM, 'pred.' + \"prediction\")\n",
                "\n",
                "    # In Spark, transformations are lazy evaluation\n",
                "    # Use an action to force execute and measure the test time \n",
                "    top_all.cache().count()\n",
                "\n",
                "print(f\"Took {test_time.interval} seconds for prediction.\")"
            ]
        },
        {
            "cell_type": "code",
            "execution_count": 33,
            "metadata": {},
            "outputs": [
                {
                    "name": "stdout",
                    "output_type": "stream",
                    "text": [
                        "+-----------+-----------+------------+\n",
                        "|    user_id|    news_id|  prediction|\n",
                        "+-----------+-----------+------------+\n",
                        "|-2147037735|-2121750872|         0.0|\n",
                        "|-2147037735|-2043278394| 0.027811762|\n",
                        "|-2147037735|-1863699942| 0.011070045|\n",
                        "|-2147037735|-1794496239| 0.006054819|\n",
                        "|-2147037735|-1699973722|         0.0|\n",
                        "|-2147037735|-1584119234|0.0031453876|\n",
                        "|-2147037735|-1493080894|3.7277272E-4|\n",
                        "|-2147037735| -960522234| 0.013794501|\n",
                        "|-2147037735| -532027687|  0.04946326|\n",
                        "|-2147037735|   51381774|  0.22901253|\n",
                        "|-2147037735|   65115344|         0.0|\n",
                        "|-2147037735|  227072232| 0.021506796|\n",
                        "|-2147037735|  324601621|         0.0|\n",
                        "|-2147037735|  604387412|  0.17451674|\n",
                        "|-2147037735| 1029253112|  0.03898862|\n",
                        "|-2147037735| 1104310681|         0.0|\n",
                        "|-2147037735| 1732144371|         0.0|\n",
                        "|-2147037735| 1762144659| 0.012311478|\n",
                        "|-2147037735| 2075122702|         0.0|\n",
                        "|-2146676128|-1876942238|         0.0|\n",
                        "+-----------+-----------+------------+\n",
                        "only showing top 20 rows\n",
                        "\n"
                    ]
                }
            ],
            "source": [
                "top_all.show()"
            ]
        },
        {
            "cell_type": "markdown",
            "metadata": {},
            "source": [
                "### 4. Evaluate how well ALS performs"
            ]
        },
        {
            "cell_type": "code",
            "execution_count": 34,
            "metadata": {},
            "outputs": [
                {
                    "name": "stderr",
                    "output_type": "stream",
                    "text": [
                        "                                                                                \r"
                    ]
                }
            ],
            "source": [
                "rank_eval = SparkRankingEvaluation(test, top_all, k = TOP_K, col_user=COL_USER, col_item=COL_ITEM, \n",
                "                                    col_rating=COL_RATING, col_prediction=\"prediction\", \n",
                "                                    relevancy_method=\"top_k\")"
            ]
        },
        {
            "cell_type": "code",
            "execution_count": 35,
            "metadata": {},
            "outputs": [
                {
                    "name": "stderr",
                    "output_type": "stream",
                    "text": [
                        "[Stage 832:==================================================>      (8 + 1) / 9]\r"
                    ]
                },
                {
                    "name": "stdout",
                    "output_type": "stream",
                    "text": [
                        "Model:\tALS\n",
                        "Top K:\t10\n",
                        "MAP:\t0.026334\n",
                        "NDCG:\t0.066722\n",
                        "Precision@K:\t0.058610\n",
                        "Recall@K:\t0.020850\n"
                    ]
                },
                {
                    "name": "stderr",
                    "output_type": "stream",
                    "text": [
                        "                                                                                \r"
                    ]
                }
            ],
            "source": [
                "print(\"Model:\\tALS\",\n",
                "      \"Top K:\\t%d\" % rank_eval.k,\n",
                "      \"MAP:\\t%f\" % rank_eval.map_at_k(),\n",
                "      \"NDCG:\\t%f\" % rank_eval.ndcg_at_k(),\n",
                "      \"Precision@K:\\t%f\" % rank_eval.precision_at_k(),\n",
                "      \"Recall@K:\\t%f\" % rank_eval.recall_at_k(), sep='\\n')"
            ]
        },
        {
            "cell_type": "markdown",
            "metadata": {},
            "source": [
                "### 5. Evaluate rating prediction"
            ]
        },
        {
            "cell_type": "code",
            "execution_count": 36,
            "metadata": {},
            "outputs": [
                {
                    "name": "stderr",
                    "output_type": "stream",
                    "text": [
                        "[Stage 875:===========================================>         (163 + 8) / 200]\r"
                    ]
                },
                {
                    "name": "stdout",
                    "output_type": "stream",
                    "text": [
                        "+-----------+-----------+------+-----+-----+------------+\n",
                        "|    news_id|    user_id|rating|count|count|  prediction|\n",
                        "+-----------+-----------+------+-----+-----+------------+\n",
                        "|-2120713446|-1482601076|     0|  478| 1936|  0.17146717|\n",
                        "|-2090215252|-1482601076|     0|  478|  426| 0.039239056|\n",
                        "|-2031019083|-1482601076|     0|  478| 3512|  0.10484441|\n",
                        "|-1989979155|  685447168|     0|   53| 1341|    0.105992|\n",
                        "|-1986381822|-1482601076|     0|  478|   11|         0.0|\n",
                        "|-1977550441| 1215769402|     0|  529|  244| 0.115620576|\n",
                        "|-1976588074|-1230168420|     1|  259| 1654|2.5876146E-4|\n",
                        "|-1888287721| 1504945774|     0|   71|  353|         0.0|\n",
                        "|-1869033591|-1230168420|     0|  259|  514|         0.0|\n",
                        "|-1865583007| -859415635|     0|  382|  225|  0.27295318|\n",
                        "|-1853492005| 1215769402|     0|  529|  119|  0.06399846|\n",
                        "|-1849280153| 1215769402|     0|  529|  169| 0.027338777|\n",
                        "|-1844046333|  666429805|     0|  400| 1535|  0.88676363|\n",
                        "|-1838142718| 1215769402|     0|  529|  584| 0.014787877|\n",
                        "|-1835425778|-1230168420|     0|  259|  496|   0.6862565|\n",
                        "|-1835425778|  666429805|     0|  400|  496|  0.16124424|\n",
                        "|-1824601735|-1230168420|     0|  259| 1159|  0.02470534|\n",
                        "|-1820481180|-1230168420|     0|  259|  467|  0.47772622|\n",
                        "|-1808250993|-1108340128|     1|   36|  735|  0.03885435|\n",
                        "|-1796408501|  666429805|     0|  400|  284| 0.051023815|\n",
                        "+-----------+-----------+------+-----+-----+------------+\n",
                        "only showing top 20 rows\n",
                        "\n"
                    ]
                },
                {
                    "name": "stderr",
                    "output_type": "stream",
                    "text": [
                        "                                                                                \r"
                    ]
                }
            ],
            "source": [
                "# Generate predicted ratings.\n",
                "prediction = model.transform(test)\n",
                "prediction.cache().show()\n"
            ]
        },
        {
            "cell_type": "code",
            "execution_count": 37,
            "metadata": {},
            "outputs": [
                {
                    "name": "stderr",
                    "output_type": "stream",
                    "text": [
                        "                                                                                \r"
                    ]
                },
                {
                    "name": "stdout",
                    "output_type": "stream",
                    "text": [
                        "Model:\tALS rating prediction\n",
                        "RMSE:\t0.317204\n",
                        "MAE:\t0.167511\n",
                        "Explained variance:\t-1.369951\n",
                        "R squared:\t-1.660865\n"
                    ]
                },
                {
                    "name": "stderr",
                    "output_type": "stream",
                    "text": [
                        "                                                                                \r"
                    ]
                }
            ],
            "source": [
                "rating_eval = SparkRatingEvaluation(test, prediction, col_user=COL_USER, col_item=COL_ITEM, \n",
                "                                    col_rating=COL_RATING, col_prediction=\"prediction\")\n",
                "\n",
                "print(\"Model:\\tALS rating prediction\",\n",
                "      \"RMSE:\\t%f\" % rating_eval.rmse(),\n",
                "      \"MAE:\\t%f\" % rating_eval.mae(),\n",
                "      \"Explained variance:\\t%f\" % rating_eval.exp_var(),\n",
                "      \"R squared:\\t%f\" % rating_eval.rsquared(), sep='\\n')"
            ]
        },
        {
            "cell_type": "code",
            "execution_count": 38,
            "metadata": {},
            "outputs": [],
            "source": [
                "# cleanup spark instance and clear temp directory\n",
                "spark.stop()\n",
                "tmpdir.cleanup()"
            ]
        },
        {
            "cell_type": "markdown",
            "metadata": {},
            "source": [
                "### 6. Changes over time\n",
                "\n",
                "#### Attempt 0 - no modifications\n",
                "\n",
                "Model:\tALS\n",
                "Top K:\t10\n",
                "MAP:\t0.000041\n",
                "NDCG:\t0.000069\n",
                "Precision@K:\t0.000020\n",
                "Recall@K:\t0.000041\n",
                "\n",
                "Model:\tALS rating prediction\n",
                "RMSE:\t0.194057\n",
                "MAE:\t0.047414\n",
                "Explained variance:\t0.019782\n",
                "R squared:\t-0.002237\n",
                "\n",
                "These extremely low metrics might be due to the dataset mostly being made up of non-interactions. Possible changes:\n",
                "- Remove articles with low engagement\n",
                "- Tune hyperparameters: increase rank, decrease regParam, and change alpha\n",
                "- Convert data to implicit feedback\n",
                "\n",
                "#### Attempt 1 - adding atmpt. 0 suggestions\n",
                "\n",
                "Model:\tALS\n",
                "Top K:\t10\n",
                "MAP:\t0.026334\n",
                "NDCG:\t0.066722\n",
                "Precision@K:\t0.058610\n",
                "Recall@K:\t0.020850\n",
                "\n",
                "Model:\tALS rating prediction\n",
                "RMSE:\t0.317204\n",
                "MAE:\t0.167511\n",
                "Explained variance:\t-1.369951\n",
                "R squared:\t-1.660865\n",
                "\n",
                "Much better, but still very low. Might attempt a different method before continuing. \n"
            ]
        }
    ],
    "metadata": {
        "kernelspec": {
            "display_name": "venv",
            "language": "python",
            "name": "python3"
        },
        "language_info": {
            "codemirror_mode": {
                "name": "ipython",
                "version": 3
            },
            "file_extension": ".py",
            "mimetype": "text/x-python",
            "name": "python",
            "nbconvert_exporter": "python",
            "pygments_lexer": "ipython3",
            "version": "3.12.3"
        }
    },
    "nbformat": 4,
    "nbformat_minor": 1
}
