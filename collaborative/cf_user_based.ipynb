{
 "cells": [
  {
   "cell_type": "markdown",
   "metadata": {},
   "source": [
    "# User based collaborative filtering\n",
    "\n",
    "Finds the most similar users, which is used to recommend articles"
   ]
  },
  {
   "cell_type": "code",
   "execution_count": 2,
   "metadata": {},
   "outputs": [],
   "source": [
    "import sys, os\n",
    "sys.path.append(os.path.abspath(\"..\")) \n",
    "import pandas as pd\n",
    "from models.cf_user_based import UserSimilarityRecommender\n",
    "from utils.evaluation import evaluate_model"
   ]
  },
  {
   "cell_type": "code",
   "execution_count": 3,
   "metadata": {},
   "outputs": [
    {
     "data": {
      "text/html": [
       "<div>\n",
       "<style scoped>\n",
       "    .dataframe tbody tr th:only-of-type {\n",
       "        vertical-align: middle;\n",
       "    }\n",
       "\n",
       "    .dataframe tbody tr th {\n",
       "        vertical-align: top;\n",
       "    }\n",
       "\n",
       "    .dataframe thead th {\n",
       "        text-align: right;\n",
       "    }\n",
       "</style>\n",
       "<table border=\"1\" class=\"dataframe\">\n",
       "  <thead>\n",
       "    <tr style=\"text-align: right;\">\n",
       "      <th></th>\n",
       "      <th>id</th>\n",
       "      <th>user_id</th>\n",
       "      <th>history</th>\n",
       "      <th>impressions</th>\n",
       "    </tr>\n",
       "  </thead>\n",
       "  <tbody>\n",
       "    <tr>\n",
       "      <th>0</th>\n",
       "      <td>1</td>\n",
       "      <td>U13740</td>\n",
       "      <td>N55189 N42782 N34694 N45794 N18445 N63302 N104...</td>\n",
       "      <td>N55689-1 N35729-0</td>\n",
       "    </tr>\n",
       "    <tr>\n",
       "      <th>1</th>\n",
       "      <td>2</td>\n",
       "      <td>U91836</td>\n",
       "      <td>N31739 N6072 N63045 N23979 N35656 N43353 N8129...</td>\n",
       "      <td>N20678-0 N39317-0 N58114-0 N20495-0 N42977-0 N...</td>\n",
       "    </tr>\n",
       "    <tr>\n",
       "      <th>2</th>\n",
       "      <td>3</td>\n",
       "      <td>U73700</td>\n",
       "      <td>N10732 N25792 N7563 N21087 N41087 N5445 N60384...</td>\n",
       "      <td>N50014-0 N23877-0 N35389-0 N49712-0 N16844-0 N...</td>\n",
       "    </tr>\n",
       "    <tr>\n",
       "      <th>3</th>\n",
       "      <td>4</td>\n",
       "      <td>U34670</td>\n",
       "      <td>N45729 N2203 N871 N53880 N41375 N43142 N33013 ...</td>\n",
       "      <td>N35729-0 N33632-0 N49685-1 N27581-0</td>\n",
       "    </tr>\n",
       "    <tr>\n",
       "      <th>4</th>\n",
       "      <td>5</td>\n",
       "      <td>U8125</td>\n",
       "      <td>N10078 N56514 N14904 N33740</td>\n",
       "      <td>N39985-0 N36050-0 N16096-0 N8400-1 N22407-0 N6...</td>\n",
       "    </tr>\n",
       "  </tbody>\n",
       "</table>\n",
       "</div>"
      ],
      "text/plain": [
       "   id user_id                                            history  \\\n",
       "0   1  U13740  N55189 N42782 N34694 N45794 N18445 N63302 N104...   \n",
       "1   2  U91836  N31739 N6072 N63045 N23979 N35656 N43353 N8129...   \n",
       "2   3  U73700  N10732 N25792 N7563 N21087 N41087 N5445 N60384...   \n",
       "3   4  U34670  N45729 N2203 N871 N53880 N41375 N43142 N33013 ...   \n",
       "4   5   U8125                        N10078 N56514 N14904 N33740   \n",
       "\n",
       "                                         impressions  \n",
       "0                                  N55689-1 N35729-0  \n",
       "1  N20678-0 N39317-0 N58114-0 N20495-0 N42977-0 N...  \n",
       "2  N50014-0 N23877-0 N35389-0 N49712-0 N16844-0 N...  \n",
       "3                N35729-0 N33632-0 N49685-1 N27581-0  \n",
       "4  N39985-0 N36050-0 N16096-0 N8400-1 N22407-0 N6...  "
      ]
     },
     "execution_count": 3,
     "metadata": {},
     "output_type": "execute_result"
    }
   ],
   "source": [
    "# Columns in behaviors.tsv\n",
    "names = [\"id\", \"user_id\", \"timestamp\", \"history\", \"impressions\"]\n",
    "usecols = [\"id\", \"user_id\", \"history\", \"impressions\"]\n",
    "\n",
    "# Load behaviors data\n",
    "train_behaviors_df = pd.read_csv(\n",
    "  \"../MIND/train/behaviors.tsv\",\n",
    "  sep=\"\\t\",\n",
    "  header=None,\n",
    "  names=names,\n",
    "  usecols=usecols\n",
    ")\n",
    "\n",
    "train_behaviors_df = train_behaviors_df.head(40_000)\n",
    "\n",
    "# Preview dataset\n",
    "train_behaviors_df.head()\n"
   ]
  },
  {
   "cell_type": "code",
   "execution_count": 4,
   "metadata": {},
   "outputs": [],
   "source": [
    "cf_user = UserSimilarityRecommender(train_behaviors_df)\n",
    "cf_user.train()"
   ]
  },
  {
   "cell_type": "code",
   "execution_count": 7,
   "metadata": {},
   "outputs": [
    {
     "name": "stdout",
     "output_type": "stream",
     "text": [
      "Top 5 Recommended Articles: []\n"
     ]
    }
   ],
   "source": [
    "user_id = train_behaviors_df[\"user_id\"][0]\n",
    "recommendations = cf_user.recommend(user_id, N=5)\n",
    "print(\"Top 5 Recommended Articles:\", recommendations)"
   ]
  },
  {
   "cell_type": "markdown",
   "metadata": {},
   "source": [
    "### Load validation set"
   ]
  },
  {
   "cell_type": "markdown",
   "metadata": {},
   "source": [
    "### Evaluate the model"
   ]
  },
  {
   "cell_type": "code",
   "execution_count": null,
   "metadata": {},
   "outputs": [],
   "source": [
    "exist = 0\n",
    "not_exist = 0\n",
    "\n",
    "for _, row in train_behaviors_df.iterrows():\n",
    "    user_id = row[\"user_id\"]\n",
    "    if pd.isna(row[\"impressions\"]):\n",
    "        continue\n",
    "    \n",
    "    if cf_user.user_exist(user_id):\n",
    "        exist += 1\n",
    "    else:\n",
    "        not_exist += 1\n",
    "    \n",
    "print(\"Exist\", exist)\n",
    "print(\"not_exist\", not_exist)\n",
    "    \n"
   ]
  },
  {
   "cell_type": "code",
   "execution_count": null,
   "metadata": {},
   "outputs": [],
   "source": [
    "ndcg, auc, mrr = evaluate_model(cf_user, train_behaviors_df, 5)\n",
    "print(f\"General Model - NDCG@5: {ndcg:.4f}, AUC@5: {auc:.4f}, MRR@5: {mrr:.4f}\")"
   ]
  },
  {
   "cell_type": "markdown",
   "metadata": {},
   "source": [
    "10_000\n",
    "General Model - NDCG@5: 0.0005, AUC@5: 0.0007, MRR@5: 0.0006\n",
    "\n",
    "20_000\n",
    "General Model - NDCG@5: 0.0006, AUC@5: 0.0009, MRR@5: 0.0008\n",
    "\n",
    "30_000\n",
    "General Model - NDCG@5: 0.0007, AUC@5: 0.0009, MRR@5: 0.0009\n",
    "\n",
    "40_000\n",
    "Kernel crashes lol"
   ]
  }
 ],
 "metadata": {
  "kernelspec": {
   "display_name": "venv",
   "language": "python",
   "name": "python3"
  },
  "language_info": {
   "codemirror_mode": {
    "name": "ipython",
    "version": 3
   },
   "file_extension": ".py",
   "mimetype": "text/x-python",
   "name": "python",
   "nbconvert_exporter": "python",
   "pygments_lexer": "ipython3",
   "version": "3.12.3"
  }
 },
 "nbformat": 4,
 "nbformat_minor": 2
}
