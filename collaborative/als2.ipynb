{
    "cells": [
        {
            "cell_type": "markdown",
            "metadata": {},
            "source": [
                "<i>Adapted from Recommenders ALS example</i>"
            ]
        },
        {
            "cell_type": "markdown",
            "metadata": {},
            "source": [
                "# Running ALS on MIND (with PySpark)\n",
                "\n",
                "Matrix factorization by [ALS](https://spark.apache.org/docs/latest/api/python/_modules/pyspark/ml/recommendation.html#ALS) (Alternating Least Squares) is a well known collaborative filtering algorithm.\n",
                "\n",
                "This notebook provides an example of how to utilize and evaluate ALS PySpark ML (DataFrame-based API) implementation, meant for large-scale distributed datasets."
            ]
        },
        {
            "cell_type": "code",
            "execution_count": 1,
            "metadata": {},
            "outputs": [
                {
                    "name": "stdout",
                    "output_type": "stream",
                    "text": [
                        "System version: 3.12.3 (main, Feb  4 2025, 14:48:35) [GCC 13.3.0]\n",
                        "Spark version: 3.5.4\n"
                    ]
                }
            ],
            "source": [
                "import warnings\n",
                "warnings.simplefilter(action='ignore', category=FutureWarning)\n",
                "\n",
                "import os\n",
                "import sys\n",
                "import pyspark\n",
                "from pyspark.ml.recommendation import ALS\n",
                "import pyspark.sql.functions as F\n",
                "from pyspark.sql.types import StructType, StructField\n",
                "from pyspark.sql.types import StringType, IntegerType\n",
                "\n",
                "from recommenders.utils.timer import Timer\n",
                "from recommenders.datasets.spark_splitters import spark_random_split\n",
                "from recommenders.evaluation.spark_evaluation import SparkRatingEvaluation, SparkRankingEvaluation\n",
                "from recommenders.utils.spark_utils import start_or_get_spark\n",
                "\n",
                "from tempfile import TemporaryDirectory\n",
                "from recommenders.datasets.mind import download_mind\n",
                "from recommenders.datasets.download_utils import unzip_file\n",
                "\n",
                "print(f\"System version: {sys.version}\")\n",
                "print(\"Spark version: {}\".format(pyspark.__version__))\n"
            ]
        },
        {
            "cell_type": "markdown",
            "metadata": {},
            "source": [
                "Set the default parameters."
            ]
        },
        {
            "cell_type": "code",
            "execution_count": null,
            "metadata": {
                "tags": [
                    "parameters"
                ]
            },
            "outputs": [],
            "source": [
                "# top k items to recommend\n",
                "TOP_K = 10\n",
                "\n",
                "# MIND sizes: \"demo\", \"small\", or \"large\"\n",
                "mind_type = 'demo'\n",
                "\n",
                "# Column names for the dataset\n",
                "COL_USER = \"user_id\"\n",
                "COL_ITEM = \"news_id\"\n",
                "COL_RATING = \"rating\""
            ]
        },
        {
            "cell_type": "markdown",
            "metadata": {},
            "source": [
                "### 0. Set up Spark context & directory\n",
                "\n",
                "The following settings work well for debugging locally on VM - change when running on a cluster. We set up a giant single executor with many threads and specify memory cap. "
            ]
        },
        {
            "cell_type": "code",
            "execution_count": 3,
            "metadata": {},
            "outputs": [
                {
                    "name": "stderr",
                    "output_type": "stream",
                    "text": [
                        "25/04/06 10:54:12 WARN Utils: Your hostname, sondre-ThinkPad-E580 resolves to a loopback address: 127.0.1.1; using 10.21.36.87 instead (on interface enx6c02e0d7834b)\n",
                        "25/04/06 10:54:12 WARN Utils: Set SPARK_LOCAL_IP if you need to bind to another address\n",
                        "Setting default log level to \"WARN\".\n",
                        "To adjust logging level use sc.setLogLevel(newLevel). For SparkR, use setLogLevel(newLevel).\n",
                        "25/04/06 10:54:13 WARN NativeCodeLoader: Unable to load native-hadoop library for your platform... using builtin-java classes where applicable\n"
                    ]
                }
            ],
            "source": [
                "# the following settings work well for debugging locally on VM - change when running on a cluster\n",
                "# set up a giant single executor with many threads and specify memory cap\n",
                "spark = start_or_get_spark(\"ALS PySpark\", memory=\"16g\")\n",
                "spark.conf.set(\"spark.sql.analyzer.failAmbiguousSelfJoin\", \"false\")"
            ]
        },
        {
            "cell_type": "code",
            "execution_count": 4,
            "metadata": {},
            "outputs": [
                {
                    "name": "stderr",
                    "output_type": "stream",
                    "text": [
                        "  6%|▌         | 32.3k/519k [00:12<02:50, 2.85kKB/s]25/04/06 10:54:30 WARN GarbageCollectionMetrics: To enable non-built-in garbage collector(s) List(G1 Concurrent GC), users should configure it(them) to spark.eventLog.gcMetrics.youngGenerationGarbageCollectors or spark.eventLog.gcMetrics.oldGenerationGarbageCollectors\n",
                        "100%|██████████| 519k/519k [02:01<00:00, 4.29kKB/s] \n",
                        "100%|██████████| 101k/101k [00:32<00:00, 3.07kKB/s] \n"
                    ]
                }
            ],
            "source": [
                "# Setup data storage location\n",
                "\n",
                "tmpdir = TemporaryDirectory()\n",
                "data_path = tmpdir.name\n",
                "train_zip, valid_zip = download_mind(size=mind_type, dest_path=data_path)\n",
                "unzip_file(train_zip, os.path.join(data_path, 'train'), clean_zip_file=False)\n",
                "unzip_file(valid_zip, os.path.join(data_path, 'valid'), clean_zip_file=False)\n",
                "train_behaviors_path = os.path.join(data_path, \"train\", \"behaviors.tsv\")"
            ]
        },
        {
            "cell_type": "markdown",
            "metadata": {},
            "source": [
                "### 1. Download the MIND dataset"
            ]
        },
        {
            "cell_type": "code",
            "execution_count": null,
            "metadata": {},
            "outputs": [
                {
                    "name": "stderr",
                    "output_type": "stream",
                    "text": [
                        "                                                                                \r"
                    ]
                },
                {
                    "name": "stdout",
                    "output_type": "stream",
                    "text": [
                        "+-------+-------+------+-----+-----+\n",
                        "|news_id|user_id|rating|count|count|\n",
                        "+-------+-------+------+-----+-----+\n",
                        "| 128367|    362|     1|   29| 1817|\n",
                        "|  38395|   1417|     1|   14|  400|\n",
                        "|  19530|   2601|     1|   15|   84|\n",
                        "| 128367|   5100|     1|   10| 1817|\n",
                        "|   1088|   5880|     1|   22|  585|\n",
                        "| 117994|   8654|     1|   27|  927|\n",
                        "|  19553|   8864|     1|   14|   38|\n",
                        "| 128367|  10862|     1|   27| 1817|\n",
                        "| 128367|  11876|     1|   29| 1817|\n",
                        "| 128367|  12384|     1|   20| 1817|\n",
                        "| 128367|  13261|     1|   22| 1817|\n",
                        "|  12027|  14477|     1|   13|  504|\n",
                        "|  47711|  15398|     1|   11| 1277|\n",
                        "| 128367|  15479|     1|   16| 1817|\n",
                        "|   1088|  15557|     1|   15|  585|\n",
                        "|   1088|  15557|     1|   15|  585|\n",
                        "| 128367|  16224|     1|   14| 1817|\n",
                        "|  12027|  16383|     1|   13|  504|\n",
                        "|  53691|  17172|     1|   70|  134|\n",
                        "| 128367|  17388|     1|   18| 1817|\n",
                        "+-------+-------+------+-----+-----+\n",
                        "only showing top 20 rows\n",
                        "\n"
                    ]
                },
                {
                    "name": "stderr",
                    "output_type": "stream",
                    "text": [
                        "[Stage 12:>  (0 + 8) / 11][Stage 13:>  (0 + 0) / 11][Stage 14:>  (0 + 0) / 11]1]\r"
                    ]
                }
            ],
            "source": [
                "# Schema for behaviors.tsv\n",
                "schema = StructType([\n",
                "    StructField(\"impression_id\", StringType(), True),  # Ignored for ALS\n",
                "    StructField(COL_USER, StringType(), True),  # Will be converted later\n",
                "    StructField(\"timestamp\", StringType(), True),  # Convert to long if needed\n",
                "    StructField(\"history\", StringType(), True),  # List of past clicked news\n",
                "    StructField(\"impressions\", StringType(), True)  # Needs to be split into news_id + rating\n",
                "])\n",
                "\n",
                "# Load raw behaviors.tsv\n",
                "data = (\n",
                "    spark.read.option(\"sep\", \"\\t\").option(\"header\", \"false\")\n",
                "    .schema(schema)\n",
                "    .csv(train_behaviors_path)\n",
                ")\n",
                "data = data.withColumn(\n",
                "    \"impressions\",\n",
                "    F.expr(\"filter(split(impressions, ' '), x -> x rlike '^[a-zA-Z0-9_]+-1$')\")\n",
                ")\n",
                "\n",
                "# Explode and extract clicked news_id and rating\n",
                "data = data.withColumn(\"impressions\", F.explode(\"impressions\"))\n",
                "data = data.withColumn(COL_ITEM, F.split(\"impressions\", \"-\")[0])\n",
                "data = data.withColumn(COL_RATING, F.lit(1))\n",
                "\n",
                "# Convert user_id and news_id to integers (ALS requires numeric IDs)\n",
                "from pyspark.sql.functions import regexp_extract, col\n",
                "from pyspark.sql.types import IntegerType\n",
                "\n",
                "# Extract numeric part from IDs like \"U123\" or \"N456\"\n",
                "data = data.withColumn(COL_USER, regexp_extract(col(COL_USER), r\"\\d+\", 0).cast(IntegerType()))\n",
                "data = data.withColumn(COL_ITEM, regexp_extract(col(COL_ITEM), r\"\\d+\", 0).cast(IntegerType()))\n",
                "\n",
                "# Drop unnecessary columns\n",
                "data = data.select(COL_USER, COL_ITEM, COL_RATING)\n",
                "\n",
                "# Count and remove articles / users with few interactions\n",
                "user_counts = data.groupBy(COL_USER).count().filter(F.col(\"count\") >= 10)\n",
                "news_counts = data.groupBy(COL_ITEM).count().filter(F.col(\"count\") >= 10)\n",
                "\n",
                "data = data.join(user_counts, \"user_id\").join(news_counts, \"news_id\")\n",
                "\n",
                "\n",
                "# Show transformed data\n",
                "data.show()\n",
                "data.groupBy(COL_RATING).count().show()\n"
            ]
        },
        {
            "cell_type": "markdown",
            "metadata": {},
            "source": [
                "### 2. Split the data using the Spark random splitter provided in utilities"
            ]
        },
        {
            "cell_type": "code",
            "execution_count": null,
            "metadata": {},
            "outputs": [
                {
                    "name": "stderr",
                    "output_type": "stream",
                    "text": [
                        "                                                                                \r"
                    ]
                },
                {
                    "name": "stdout",
                    "output_type": "stream",
                    "text": [
                        "N train 69472\n"
                    ]
                },
                {
                    "name": "stderr",
                    "output_type": "stream",
                    "text": [
                        "[Stage 50:================================================>     (181 + 8) / 200]\r"
                    ]
                },
                {
                    "name": "stdout",
                    "output_type": "stream",
                    "text": [
                        "N test 23065\n"
                    ]
                },
                {
                    "name": "stderr",
                    "output_type": "stream",
                    "text": [
                        "                                                                                \r"
                    ]
                }
            ],
            "source": [
                "train, test = spark_random_split(data, ratio=0.75, seed=123)\n",
                "print (\"N train\", train.cache().count())\n",
                "print (\"N test\", test.cache().count())"
            ]
        },
        {
            "cell_type": "markdown",
            "metadata": {},
            "source": [
                "### 3. Train the ALS model on the training data, and get the top-k recommendations for our testing data\n",
                "\n",
                "To article interactions movie ratings, we use the rating data in the training set as users' explicit feedback."
            ]
        },
        {
            "cell_type": "code",
            "execution_count": null,
            "metadata": {},
            "outputs": [],
            "source": [
                "header = {\n",
                "    \"userCol\": COL_USER,\n",
                "    \"itemCol\": COL_ITEM,\n",
                "    \"ratingCol\": COL_RATING,\n",
                "}\n",
                "\n",
                "\n",
                "als = ALS(\n",
                "    rank=50,\n",
                "    maxIter=15,\n",
                "    implicitPrefs=True,\n",
                "    regParam=0.01,\n",
                "    coldStartStrategy='drop',\n",
                "    nonnegative=True,\n",
                "    seed=42,\n",
                "    alpha=45,\n",
                "    **header\n",
                ")"
            ]
        },
        {
            "cell_type": "code",
            "execution_count": null,
            "metadata": {},
            "outputs": [
                {
                    "name": "stderr",
                    "output_type": "stream",
                    "text": [
                        "25/04/06 10:35:41 WARN InstanceBuilder: Failed to load implementation from:dev.ludovic.netlib.blas.VectorBLAS\n",
                        "                                                                                \r"
                    ]
                },
                {
                    "name": "stdout",
                    "output_type": "stream",
                    "text": [
                        "Took 23.36020694900003 seconds for training.\n"
                    ]
                }
            ],
            "source": [
                "with Timer() as train_time:\n",
                "    model = als.fit(train)\n",
                "\n",
                "print(f\"Took {train_time.interval} seconds for training.\")"
            ]
        },
        {
            "cell_type": "code",
            "execution_count": null,
            "metadata": {},
            "outputs": [
                {
                    "name": "stderr",
                    "output_type": "stream",
                    "text": [
                        "25/04/06 10:35:59 WARN Column: Constructing trivially true equals predicate, 'user_id#40 = user_id#40'. Perhaps you need to use aliases.\n",
                        "25/04/06 10:35:59 WARN Column: Constructing trivially true equals predicate, 'news_id#48 = news_id#48'. Perhaps you need to use aliases.\n",
                        "[Stage 844:===============================================>     (181 + 8) / 200]\r"
                    ]
                },
                {
                    "name": "stdout",
                    "output_type": "stream",
                    "text": [
                        "Took 111.45384966400002 seconds for prediction.\n"
                    ]
                },
                {
                    "name": "stderr",
                    "output_type": "stream",
                    "text": [
                        "                                                                                \r"
                    ]
                }
            ],
            "source": [
                "with Timer() as test_time:\n",
                "\n",
                "    # Get the cross join of all user-item pairs and score them.\n",
                "    users = train.select(COL_USER).distinct()\n",
                "    items = train.select(COL_ITEM).distinct()\n",
                "    user_item = users.crossJoin(items)\n",
                "    dfs_pred = model.transform(user_item)\n",
                "\n",
                "    # Remove seen items.\n",
                "    dfs_pred_exclude_train = dfs_pred.alias(\"pred\").join(\n",
                "        train.alias(\"train\"),\n",
                "        (dfs_pred[COL_USER] == train[COL_USER]) & (dfs_pred[COL_ITEM] == train[COL_ITEM]),\n",
                "        how='outer'\n",
                "    )\n",
                "\n",
                "    top_all = dfs_pred_exclude_train.filter(dfs_pred_exclude_train[f\"train.{COL_RATING}\"].isNull()) \\\n",
                "        .select('pred.' + COL_USER, 'pred.' + COL_ITEM, 'pred.' + \"prediction\")\n",
                "\n",
                "    # In Spark, transformations are lazy evaluation\n",
                "    # Use an action to force execute and measure the test time \n",
                "    top_all.cache().count()\n",
                "\n",
                "print(f\"Took {test_time.interval} seconds for prediction.\")"
            ]
        },
        {
            "cell_type": "code",
            "execution_count": null,
            "metadata": {},
            "outputs": [
                {
                    "name": "stdout",
                    "output_type": "stream",
                    "text": [
                        "+-------+-------+------------+\n",
                        "|user_id|news_id|  prediction|\n",
                        "+-------+-------+------------+\n",
                        "|      6|   5652|   0.8108743|\n",
                        "|      6|  13259|   0.6352661|\n",
                        "|      6|  14713|         0.0|\n",
                        "|      6|  29003| 0.017788233|\n",
                        "|      6|  31370| 0.058910854|\n",
                        "|      6|  32891|         0.0|\n",
                        "|      6|  35767|  0.34826005|\n",
                        "|      6|  43595|  0.23864116|\n",
                        "|      6|  45422|  0.20360477|\n",
                        "|      6|  54055| 0.010976363|\n",
                        "|      6|  59252| 0.061958354|\n",
                        "|      6|  63319|  0.16164823|\n",
                        "|     19|   6330|  0.11190914|\n",
                        "|     19|   9163|  0.36127266|\n",
                        "|     19|  26649|0.0040073525|\n",
                        "|     19|  32854|  0.14088264|\n",
                        "|     19|  34799| 8.937518E-4|\n",
                        "|     19|  44737|    0.414568|\n",
                        "|     19|  59653| 0.038909324|\n",
                        "|     19|  61023| 0.065751165|\n",
                        "+-------+-------+------------+\n",
                        "only showing top 20 rows\n",
                        "\n"
                    ]
                }
            ],
            "source": [
                "top_all.show()"
            ]
        },
        {
            "cell_type": "markdown",
            "metadata": {},
            "source": [
                "### 4. Evaluate how well ALS performs"
            ]
        },
        {
            "cell_type": "code",
            "execution_count": null,
            "metadata": {},
            "outputs": [
                {
                    "name": "stderr",
                    "output_type": "stream",
                    "text": [
                        "                                                                                \r"
                    ]
                }
            ],
            "source": [
                "rank_eval = SparkRankingEvaluation(test, top_all, k = TOP_K, col_user=COL_USER, col_item=COL_ITEM, \n",
                "                                    col_rating=COL_RATING, col_prediction=\"prediction\", \n",
                "                                    relevancy_method=\"top_k\")"
            ]
        },
        {
            "cell_type": "code",
            "execution_count": null,
            "metadata": {},
            "outputs": [
                {
                    "name": "stderr",
                    "output_type": "stream",
                    "text": [
                        "[Stage 903:============================================>            (7 + 2) / 9]\r"
                    ]
                },
                {
                    "name": "stdout",
                    "output_type": "stream",
                    "text": [
                        "Model:\tALS\n",
                        "Top K:\t10\n",
                        "MAP:\t0.024064\n",
                        "NDCG:\t0.047498\n",
                        "Precision@K:\t0.023703\n",
                        "Recall@K:\t0.061861\n"
                    ]
                },
                {
                    "name": "stderr",
                    "output_type": "stream",
                    "text": [
                        "                                                                                \r"
                    ]
                }
            ],
            "source": [
                "print(\"Model:\\tALS\",\n",
                "      \"Top K:\\t%d\" % rank_eval.k,\n",
                "      \"MAP:\\t%f\" % rank_eval.map_at_k(),\n",
                "      \"NDCG:\\t%f\" % rank_eval.ndcg_at_k(),\n",
                "      \"Precision@K:\\t%f\" % rank_eval.precision_at_k(),\n",
                "      \"Recall@K:\\t%f\" % rank_eval.recall_at_k(), sep='\\n')"
            ]
        },
        {
            "cell_type": "markdown",
            "metadata": {},
            "source": [
                "demo:\n",
                "\n",
                "Model:\tALS\n",
                "Top K:\t10\n",
                "MAP:\t0.020436\n",
                "NDCG:\t0.039740\n",
                "Precision@K:\t0.019577\n",
                "Recall@K:\t0.050302\n",
                "\n",
                "small: \n",
                "\n",
                "Model:\tALS\n",
                "Top K:\t10\n",
                "MAP:\t0.024064\n",
                "NDCG:\t0.047498\n",
                "Precision@K:\t0.023703\n",
                "Recall@K:\t0.061861"
            ]
        },
        {
            "cell_type": "markdown",
            "metadata": {},
            "source": [
                "### 5. Evaluate rating prediction"
            ]
        },
        {
            "cell_type": "code",
            "execution_count": null,
            "metadata": {},
            "outputs": [
                {
                    "name": "stderr",
                    "output_type": "stream",
                    "text": [
                        "[Stage 950:=================================================>   (185 + 8) / 200]\r"
                    ]
                },
                {
                    "name": "stdout",
                    "output_type": "stream",
                    "text": [
                        "+-------+-------+------+-----+-----+------------+\n",
                        "|news_id|user_id|rating|count|count|  prediction|\n",
                        "+-------+-------+------+-----+-----+------------+\n",
                        "|   4612|  42635|     1|   11|   24| 0.010642283|\n",
                        "|  24176|  31236|     1|   17|  554|  0.39615127|\n",
                        "|  24176|  42635|     1|   11|  554|  0.25372392|\n",
                        "|  49712|  64822|     1|   12|  507|   0.6526933|\n",
                        "|  60872|  64822|     1|   12|  140| 0.029460328|\n",
                        "|  56211|  80451|     1|   13|  608|  0.01811748|\n",
                        "|  17059|  40011|     1|   11|  480| 0.017920684|\n",
                        "|  18406|  37489|     1|   10|   78| 0.029273797|\n",
                        "|   1034|  55283|     1|   30|  864|    0.360135|\n",
                        "|  15855|  31236|     1|   17|  337|  0.04366128|\n",
                        "|  26227|  22097|     1|   21|  130|   1.3879542|\n",
                        "|  55943|   5803|     1|   15|  541|0.0076231123|\n",
                        "|  36226|  61793|     1|   27|  452|   0.6577224|\n",
                        "|  51048|  12027|     1|   14| 1875| 0.095313706|\n",
                        "|  51048|  43935|     1|   25| 1875|   0.5148454|\n",
                        "|   4642|  40653|     1|   10| 1189| 0.014704079|\n",
                        "|   4642|  55283|     1|   30| 1189|   0.9233556|\n",
                        "|  60992|  15790|     1|   13|  422|         0.0|\n",
                        "|  48017|   6336|     1|   39|  471|  0.26321137|\n",
                        "|   8191|  34759|     1|   19|   93|  0.29268813|\n",
                        "+-------+-------+------+-----+-----+------------+\n",
                        "only showing top 20 rows\n",
                        "\n"
                    ]
                },
                {
                    "name": "stderr",
                    "output_type": "stream",
                    "text": [
                        "                                                                                \r"
                    ]
                }
            ],
            "source": [
                "# Generate predicted ratings.\n",
                "prediction = model.transform(test)\n",
                "prediction.cache().show()\n"
            ]
        },
        {
            "cell_type": "code",
            "execution_count": null,
            "metadata": {},
            "outputs": [
                {
                    "name": "stderr",
                    "output_type": "stream",
                    "text": [
                        "                                                                                \r"
                    ]
                },
                {
                    "name": "stdout",
                    "output_type": "stream",
                    "text": [
                        "Model:\tALS rating prediction\n",
                        "RMSE:\t0.755191\n",
                        "MAE:\t0.692073\n",
                        "Explained variance:\t-inf\n",
                        "R squared:\t-inf\n"
                    ]
                },
                {
                    "name": "stderr",
                    "output_type": "stream",
                    "text": [
                        "/home/sondre/projects/anbefaling/recommenders/venv/lib/python3.12/site-packages/recommenders/evaluation/spark_evaluation.py:166: RuntimeWarning: divide by zero encountered in divide\n",
                        "  return 1 - np.divide(var1, var2)\n"
                    ]
                }
            ],
            "source": [
                "rating_eval = SparkRatingEvaluation(test, prediction, col_user=COL_USER, col_item=COL_ITEM, \n",
                "                                    col_rating=COL_RATING, col_prediction=\"prediction\")\n",
                "\n",
                "print(\"Model:\\tALS rating prediction\",\n",
                "      \"RMSE:\\t%f\" % rating_eval.rmse(),\n",
                "      \"MAE:\\t%f\" % rating_eval.mae(),\n",
                "      \"Explained variance:\\t%f\" % rating_eval.exp_var(),\n",
                "      \"R squared:\\t%f\" % rating_eval.rsquared(), sep='\\n')"
            ]
        },
        {
            "cell_type": "code",
            "execution_count": null,
            "metadata": {},
            "outputs": [],
            "source": [
                "# cleanup spark instance and clear temp directory\n",
                "spark.stop()\n",
                "tmpdir.cleanup()"
            ]
        }
    ],
    "metadata": {
        "kernelspec": {
            "display_name": "venv",
            "language": "python",
            "name": "python3"
        },
        "language_info": {
            "codemirror_mode": {
                "name": "ipython",
                "version": 3
            },
            "file_extension": ".py",
            "mimetype": "text/x-python",
            "name": "python",
            "nbconvert_exporter": "python",
            "pygments_lexer": "ipython3",
            "version": "3.12.3"
        }
    },
    "nbformat": 4,
    "nbformat_minor": 1
}
