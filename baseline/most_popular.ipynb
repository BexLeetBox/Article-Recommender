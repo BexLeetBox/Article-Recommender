{
 "cells": [
  {
   "cell_type": "markdown",
   "id": "27622165889ae50",
   "metadata": {},
   "source": [
    "# Baseline\n",
    "\n",
    "The baseline recommendation model recommends the most popular item. The recommender gives the most popular articles no matter the user, based on their history and impressions."
   ]
  },
  {
   "cell_type": "markdown",
   "id": "6ceafad749ee4550",
   "metadata": {},
   "source": [
    "### Imports"
   ]
  },
  {
   "cell_type": "code",
   "id": "initial_id",
   "metadata": {
    "collapsed": true,
    "ExecuteTime": {
     "end_time": "2025-04-06T10:06:33.131038Z",
     "start_time": "2025-04-06T10:06:32.061835Z"
    }
   },
   "source": [
    "import os\n",
    "import pandas as pd\n",
    "from tempfile import TemporaryDirectory\n",
    "from recommenders.datasets.mind import download_mind\n",
    "from recommenders.datasets.download_utils import unzip_file\n",
    "from models.most_popular import MostPopularRecommender\n",
    "from utils.evaluation import evaluate_model"
   ],
   "outputs": [
    {
     "name": "stderr",
     "output_type": "stream",
     "text": [
      "/Users/sanderolinjohansen/Documents/CODE_PROJECTS/Article-Recommender/.venv/lib/python3.9/site-packages/urllib3/__init__.py:35: NotOpenSSLWarning: urllib3 v2 only supports OpenSSL 1.1.1+, currently the 'ssl' module is compiled with 'LibreSSL 2.8.3'. See: https://github.com/urllib3/urllib3/issues/3020\n",
      "  warnings.warn(\n"
     ]
    }
   ],
   "execution_count": 1
  },
  {
   "cell_type": "markdown",
   "id": "efbd37a1967c44a4",
   "metadata": {},
   "source": [
    "### Import MIND dataset and set up tempdir"
   ]
  },
  {
   "cell_type": "code",
   "id": "e731353e4466c243",
   "metadata": {
    "ExecuteTime": {
     "end_time": "2025-04-06T10:06:45.508033Z",
     "start_time": "2025-04-06T10:06:35.481676Z"
    }
   },
   "source": [
    "# Create tempdir, download and unzip datasets\n",
    "tmpdir = TemporaryDirectory()\n",
    "data_path = tmpdir.name\n",
    "\n",
    "train_zip, valid_zip = download_mind(size=\"small\", dest_path=data_path)\n",
    "unzip_file(train_zip, os.path.join(data_path, 'train'), clean_zip_file=False)\n",
    "unzip_file(valid_zip, os.path.join(data_path, 'valid'), clean_zip_file=False)\n",
    "\n",
    "# Path to behaviors file\n",
    "train_behaviors_path = os.path.join(data_path, \"train\", \"behaviors.tsv\")"
   ],
   "outputs": [
    {
     "name": "stderr",
     "output_type": "stream",
     "text": [
      "100%|██████████| 51.8k/51.8k [00:05<00:00, 10.1kKB/s]\n",
      "100%|██████████| 30.2k/30.2k [00:03<00:00, 8.70kKB/s]\n"
     ]
    }
   ],
   "execution_count": 2
  },
  {
   "cell_type": "markdown",
   "id": "b0817d721677a8c0",
   "metadata": {},
   "source": [
    "### Load into dataframe"
   ]
  },
  {
   "cell_type": "code",
   "id": "b669b69b309d4429",
   "metadata": {
    "ExecuteTime": {
     "end_time": "2025-04-06T10:06:47.736922Z",
     "start_time": "2025-04-06T10:06:47.064104Z"
    }
   },
   "source": [
    "# Columns in behaviors.tsv\n",
    "columns = [\"id\", \"user_id\", \"timestamp\", \"history\", \"impressions\"]\n",
    "\n",
    "# Load behaviors data\n",
    "test_behaviors_df = pd.read_csv(train_behaviors_path, sep=\"\\t\", header=None, names=columns)\n",
    "\n",
    "# Preview dataset\n",
    "test_behaviors_df.head()"
   ],
   "outputs": [
    {
     "data": {
      "text/plain": [
       "   id user_id              timestamp  \\\n",
       "0   1  U13740  11/11/2019 9:05:58 AM   \n",
       "1   2  U91836  11/12/2019 6:11:30 PM   \n",
       "2   3  U73700  11/14/2019 7:01:48 AM   \n",
       "3   4  U34670  11/11/2019 5:28:05 AM   \n",
       "4   5   U8125  11/12/2019 4:11:21 PM   \n",
       "\n",
       "                                             history  \\\n",
       "0  N55189 N42782 N34694 N45794 N18445 N63302 N104...   \n",
       "1  N31739 N6072 N63045 N23979 N35656 N43353 N8129...   \n",
       "2  N10732 N25792 N7563 N21087 N41087 N5445 N60384...   \n",
       "3  N45729 N2203 N871 N53880 N41375 N43142 N33013 ...   \n",
       "4                        N10078 N56514 N14904 N33740   \n",
       "\n",
       "                                         impressions  \n",
       "0                                  N55689-1 N35729-0  \n",
       "1  N20678-0 N39317-0 N58114-0 N20495-0 N42977-0 N...  \n",
       "2  N50014-0 N23877-0 N35389-0 N49712-0 N16844-0 N...  \n",
       "3                N35729-0 N33632-0 N49685-1 N27581-0  \n",
       "4  N39985-0 N36050-0 N16096-0 N8400-1 N22407-0 N6...  "
      ],
      "text/html": [
       "<div>\n",
       "<style scoped>\n",
       "    .dataframe tbody tr th:only-of-type {\n",
       "        vertical-align: middle;\n",
       "    }\n",
       "\n",
       "    .dataframe tbody tr th {\n",
       "        vertical-align: top;\n",
       "    }\n",
       "\n",
       "    .dataframe thead th {\n",
       "        text-align: right;\n",
       "    }\n",
       "</style>\n",
       "<table border=\"1\" class=\"dataframe\">\n",
       "  <thead>\n",
       "    <tr style=\"text-align: right;\">\n",
       "      <th></th>\n",
       "      <th>id</th>\n",
       "      <th>user_id</th>\n",
       "      <th>timestamp</th>\n",
       "      <th>history</th>\n",
       "      <th>impressions</th>\n",
       "    </tr>\n",
       "  </thead>\n",
       "  <tbody>\n",
       "    <tr>\n",
       "      <th>0</th>\n",
       "      <td>1</td>\n",
       "      <td>U13740</td>\n",
       "      <td>11/11/2019 9:05:58 AM</td>\n",
       "      <td>N55189 N42782 N34694 N45794 N18445 N63302 N104...</td>\n",
       "      <td>N55689-1 N35729-0</td>\n",
       "    </tr>\n",
       "    <tr>\n",
       "      <th>1</th>\n",
       "      <td>2</td>\n",
       "      <td>U91836</td>\n",
       "      <td>11/12/2019 6:11:30 PM</td>\n",
       "      <td>N31739 N6072 N63045 N23979 N35656 N43353 N8129...</td>\n",
       "      <td>N20678-0 N39317-0 N58114-0 N20495-0 N42977-0 N...</td>\n",
       "    </tr>\n",
       "    <tr>\n",
       "      <th>2</th>\n",
       "      <td>3</td>\n",
       "      <td>U73700</td>\n",
       "      <td>11/14/2019 7:01:48 AM</td>\n",
       "      <td>N10732 N25792 N7563 N21087 N41087 N5445 N60384...</td>\n",
       "      <td>N50014-0 N23877-0 N35389-0 N49712-0 N16844-0 N...</td>\n",
       "    </tr>\n",
       "    <tr>\n",
       "      <th>3</th>\n",
       "      <td>4</td>\n",
       "      <td>U34670</td>\n",
       "      <td>11/11/2019 5:28:05 AM</td>\n",
       "      <td>N45729 N2203 N871 N53880 N41375 N43142 N33013 ...</td>\n",
       "      <td>N35729-0 N33632-0 N49685-1 N27581-0</td>\n",
       "    </tr>\n",
       "    <tr>\n",
       "      <th>4</th>\n",
       "      <td>5</td>\n",
       "      <td>U8125</td>\n",
       "      <td>11/12/2019 4:11:21 PM</td>\n",
       "      <td>N10078 N56514 N14904 N33740</td>\n",
       "      <td>N39985-0 N36050-0 N16096-0 N8400-1 N22407-0 N6...</td>\n",
       "    </tr>\n",
       "  </tbody>\n",
       "</table>\n",
       "</div>"
      ]
     },
     "execution_count": 3,
     "metadata": {},
     "output_type": "execute_result"
    }
   ],
   "execution_count": 3
  },
  {
   "cell_type": "markdown",
   "id": "e16d72f31763d95e",
   "metadata": {},
   "source": [
    "### Train the models"
   ]
  },
  {
   "cell_type": "code",
   "id": "6121f2ffb64162f5",
   "metadata": {
    "ExecuteTime": {
     "end_time": "2025-04-06T10:06:52.793186Z",
     "start_time": "2025-04-06T10:06:49.289569Z"
    }
   },
   "source": [
    "# Initialize and train the recommender\n",
    "most_popular = MostPopularRecommender(test_behaviors_df)\n",
    "most_popular.train()"
   ],
   "outputs": [],
   "execution_count": 4
  },
  {
   "cell_type": "markdown",
   "id": "f0aefd3bb23f33b0",
   "metadata": {},
   "source": [
    "### Generate recommendations from test set"
   ]
  },
  {
   "cell_type": "code",
   "id": "8a3c2c0048b3325f",
   "metadata": {
    "ExecuteTime": {
     "end_time": "2025-04-06T10:06:53.628339Z",
     "start_time": "2025-04-06T10:06:53.625520Z"
    }
   },
   "source": [
    "top_articles = most_popular.recommend(N=5)\n",
    "print(\"Top 5 Recommended Articles:\", top_articles)"
   ],
   "outputs": [
    {
     "name": "stdout",
     "output_type": "stream",
     "text": [
      "Top 5 Recommended Articles: ['N306', 'N42620', 'N47020', 'N31801', 'N45794']\n"
     ]
    }
   ],
   "execution_count": 5
  },
  {
   "cell_type": "markdown",
   "id": "3beae1b44d7ea494",
   "metadata": {},
   "source": [
    "### Load validation set"
   ]
  },
  {
   "cell_type": "code",
   "id": "d769f1d1f70be1be",
   "metadata": {
    "ExecuteTime": {
     "end_time": "2025-04-06T10:06:55.683192Z",
     "start_time": "2025-04-06T10:06:55.372394Z"
    }
   },
   "source": [
    "valid_behaviors_path = os.path.join(data_path, \"valid\", \"behaviors.tsv\")\n",
    "\n",
    "columns = [\"id\", \"user_id\", \"timestamp\", \"history\", \"impressions\"]\n",
    "\n",
    "valid_behaviors_df = pd.read_csv(valid_behaviors_path, sep=\"\\t\", header=None, names=columns)\n",
    "\n",
    "valid_behaviors_df.head()"
   ],
   "outputs": [
    {
     "data": {
      "text/plain": [
       "   id user_id               timestamp  \\\n",
       "0   1  U80234  11/15/2019 12:37:50 PM   \n",
       "1   2  U60458   11/15/2019 7:11:50 AM   \n",
       "2   3  U44190   11/15/2019 9:55:12 AM   \n",
       "3   4  U87380   11/15/2019 3:12:46 PM   \n",
       "4   5   U9444   11/15/2019 8:25:46 AM   \n",
       "\n",
       "                                             history  \\\n",
       "0  N55189 N46039 N51741 N53234 N11276 N264 N40716...   \n",
       "1  N58715 N32109 N51180 N33438 N54827 N28488 N611...   \n",
       "2  N56253 N1150 N55189 N16233 N61704 N51706 N5303...   \n",
       "3  N63554 N49153 N28678 N23232 N43369 N58518 N444...   \n",
       "4                 N51692 N18285 N26015 N22679 N55556   \n",
       "\n",
       "                                         impressions  \n",
       "0  N28682-0 N48740-0 N31958-1 N34130-0 N6916-0 N5...  \n",
       "1  N20036-0 N23513-1 N32536-0 N46976-0 N35216-0 N...  \n",
       "2  N36779-0 N62365-0 N58098-0 N5472-0 N13408-0 N5...  \n",
       "3  N6950-0 N60215-0 N6074-0 N11930-0 N6916-0 N248...  \n",
       "4  N5940-1 N23513-0 N49285-0 N23355-0 N19990-0 N3...  "
      ],
      "text/html": [
       "<div>\n",
       "<style scoped>\n",
       "    .dataframe tbody tr th:only-of-type {\n",
       "        vertical-align: middle;\n",
       "    }\n",
       "\n",
       "    .dataframe tbody tr th {\n",
       "        vertical-align: top;\n",
       "    }\n",
       "\n",
       "    .dataframe thead th {\n",
       "        text-align: right;\n",
       "    }\n",
       "</style>\n",
       "<table border=\"1\" class=\"dataframe\">\n",
       "  <thead>\n",
       "    <tr style=\"text-align: right;\">\n",
       "      <th></th>\n",
       "      <th>id</th>\n",
       "      <th>user_id</th>\n",
       "      <th>timestamp</th>\n",
       "      <th>history</th>\n",
       "      <th>impressions</th>\n",
       "    </tr>\n",
       "  </thead>\n",
       "  <tbody>\n",
       "    <tr>\n",
       "      <th>0</th>\n",
       "      <td>1</td>\n",
       "      <td>U80234</td>\n",
       "      <td>11/15/2019 12:37:50 PM</td>\n",
       "      <td>N55189 N46039 N51741 N53234 N11276 N264 N40716...</td>\n",
       "      <td>N28682-0 N48740-0 N31958-1 N34130-0 N6916-0 N5...</td>\n",
       "    </tr>\n",
       "    <tr>\n",
       "      <th>1</th>\n",
       "      <td>2</td>\n",
       "      <td>U60458</td>\n",
       "      <td>11/15/2019 7:11:50 AM</td>\n",
       "      <td>N58715 N32109 N51180 N33438 N54827 N28488 N611...</td>\n",
       "      <td>N20036-0 N23513-1 N32536-0 N46976-0 N35216-0 N...</td>\n",
       "    </tr>\n",
       "    <tr>\n",
       "      <th>2</th>\n",
       "      <td>3</td>\n",
       "      <td>U44190</td>\n",
       "      <td>11/15/2019 9:55:12 AM</td>\n",
       "      <td>N56253 N1150 N55189 N16233 N61704 N51706 N5303...</td>\n",
       "      <td>N36779-0 N62365-0 N58098-0 N5472-0 N13408-0 N5...</td>\n",
       "    </tr>\n",
       "    <tr>\n",
       "      <th>3</th>\n",
       "      <td>4</td>\n",
       "      <td>U87380</td>\n",
       "      <td>11/15/2019 3:12:46 PM</td>\n",
       "      <td>N63554 N49153 N28678 N23232 N43369 N58518 N444...</td>\n",
       "      <td>N6950-0 N60215-0 N6074-0 N11930-0 N6916-0 N248...</td>\n",
       "    </tr>\n",
       "    <tr>\n",
       "      <th>4</th>\n",
       "      <td>5</td>\n",
       "      <td>U9444</td>\n",
       "      <td>11/15/2019 8:25:46 AM</td>\n",
       "      <td>N51692 N18285 N26015 N22679 N55556</td>\n",
       "      <td>N5940-1 N23513-0 N49285-0 N23355-0 N19990-0 N3...</td>\n",
       "    </tr>\n",
       "  </tbody>\n",
       "</table>\n",
       "</div>"
      ]
     },
     "execution_count": 6,
     "metadata": {},
     "output_type": "execute_result"
    }
   ],
   "execution_count": 6
  },
  {
   "cell_type": "markdown",
   "id": "fd05e48d8453cfb0",
   "metadata": {},
   "source": [
    "### Evaluate the model"
   ]
  },
  {
   "cell_type": "code",
   "id": "9b1dfb5c1997564e",
   "metadata": {
    "ExecuteTime": {
     "end_time": "2025-04-06T10:06:59.117887Z",
     "start_time": "2025-04-06T10:06:57.468165Z"
    }
   },
   "source": [
    "ndcg, auc, mrr = evaluate_model(most_popular, valid_behaviors_df, 5)\n",
    "print(f\"General Model - NDCG@5: {ndcg:.4f}, AUC@5: {auc:.4f}, MRR@5: {mrr:.4f}\")"
   ],
   "outputs": [
    {
     "name": "stdout",
     "output_type": "stream",
     "text": [
      "General Model - NDCG@5: 0.0007, AUC@5: 0.0009, MRR@5: 0.0006\n"
     ]
    }
   ],
   "execution_count": 7
  },
  {
   "cell_type": "markdown",
   "id": "d287babd8d760f5a",
   "metadata": {},
   "source": [
    "### Cleanup the Tempdir"
   ]
  },
  {
   "cell_type": "code",
   "id": "ecc4e58a74289ff4",
   "metadata": {},
   "source": [
    "tmpdir.cleanup()"
   ],
   "outputs": [],
   "execution_count": null
  }
 ],
 "metadata": {
  "kernelspec": {
   "display_name": "Python 3",
   "language": "python",
   "name": "python3"
  },
  "language_info": {
   "codemirror_mode": {
    "name": "ipython",
    "version": 2
   },
   "file_extension": ".py",
   "mimetype": "text/x-python",
   "name": "python",
   "nbconvert_exporter": "python",
   "pygments_lexer": "ipython2",
   "version": "2.7.6"
  }
 },
 "nbformat": 4,
 "nbformat_minor": 5
}
