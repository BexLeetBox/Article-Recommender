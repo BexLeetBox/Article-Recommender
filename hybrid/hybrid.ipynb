{
 "cells": [
  {
   "cell_type": "code",
   "id": "initial_id",
   "metadata": {
    "collapsed": true,
    "ExecuteTime": {
     "end_time": "2025-04-06T15:53:56.248274Z",
     "start_time": "2025-04-06T15:53:55.456040Z"
    }
   },
   "source": [
    "import os\n",
    "import pandas as pd\n",
    "from tempfile import TemporaryDirectory\n",
    "from recommenders.datasets.mind import download_mind\n",
    "from recommenders.datasets.download_utils import unzip_file\n",
    "from models.hybrid import HybridRecommender\n",
    "from utils.evaluation import evaluate_model"
   ],
   "outputs": [
    {
     "name": "stderr",
     "output_type": "stream",
     "text": [
      "/Users/sanderolinjohansen/Documents/CODE_PROJECTS/Article-Recommender/.venv/lib/python3.9/site-packages/urllib3/__init__.py:35: NotOpenSSLWarning: urllib3 v2 only supports OpenSSL 1.1.1+, currently the 'ssl' module is compiled with 'LibreSSL 2.8.3'. See: https://github.com/urllib3/urllib3/issues/3020\n",
      "  warnings.warn(\n"
     ]
    }
   ],
   "execution_count": 1
  },
  {
   "metadata": {
    "ExecuteTime": {
     "end_time": "2025-04-06T15:54:06.196258Z",
     "start_time": "2025-04-06T15:53:56.258395Z"
    }
   },
   "cell_type": "code",
   "source": [
    "# Create a temporary directory and download the dataset\n",
    "tmpdir = TemporaryDirectory()\n",
    "data_path = tmpdir.name\n",
    "\n",
    "# Download and unzip the training and validation datasets\n",
    "train_zip, valid_zip = download_mind(size=\"small\", dest_path=data_path)\n",
    "unzip_file(train_zip, os.path.join(data_path, 'train'), clean_zip_file=False)\n",
    "unzip_file(valid_zip, os.path.join(data_path, 'valid'), clean_zip_file=False)\n",
    "\n",
    "# Paths to the behavior files (TSV format)\n",
    "train_behaviors_path = os.path.join(data_path, \"train\", \"behaviors.tsv\")\n",
    "valid_behaviors_path = os.path.join(data_path, \"valid\", \"behaviors.tsv\")"
   ],
   "id": "e2b832c65e1e62b3",
   "outputs": [
    {
     "name": "stderr",
     "output_type": "stream",
     "text": [
      "100%|██████████| 51.8k/51.8k [00:05<00:00, 10.1kKB/s]\n",
      "100%|██████████| 30.2k/30.2k [00:03<00:00, 9.07kKB/s]\n"
     ]
    }
   ],
   "execution_count": 2
  },
  {
   "metadata": {
    "ExecuteTime": {
     "end_time": "2025-04-06T15:54:17.671153Z",
     "start_time": "2025-04-06T15:54:06.284644Z"
    }
   },
   "cell_type": "code",
   "source": [
    "# Initialize the recommender\n",
    "model = HybridRecommender(batch_size=1000)\n",
    "\n",
    "model.train(train_file=train_behaviors_path, use_timestamps=True)"
   ],
   "id": "6817d9d5f74c1bd8",
   "outputs": [
    {
     "name": "stdout",
     "output_type": "stream",
     "text": [
      "Processing interactions...\n"
     ]
    },
    {
     "name": "stderr",
     "output_type": "stream",
     "text": [
      "Extracting interactions: 100%|██████████| 156965/156965 [00:05<00:00, 31327.78it/s]\n"
     ]
    },
    {
     "name": "stdout",
     "output_type": "stream",
     "text": [
      "Creating matrices...\n",
      "Computing item similarity matrix...\n",
      "Training completed.\n"
     ]
    }
   ],
   "execution_count": 3
  },
  {
   "metadata": {
    "ExecuteTime": {
     "end_time": "2025-04-06T15:55:48.721708Z",
     "start_time": "2025-04-06T15:55:48.639581Z"
    }
   },
   "cell_type": "code",
   "source": [
    "sample_user_id = 'user123'\n",
    "recommendations = model.recommend(user_id=sample_user_id, N=5)\n",
    "print(f\"Top 5 recommendations for user {sample_user_id}:\")\n",
    "print(recommendations)"
   ],
   "id": "137a2ac372cc0ef8",
   "outputs": [
    {
     "name": "stdout",
     "output_type": "stream",
     "text": [
      "Top 5 recommendations for user user123:\n",
      "['N4607', 'N24298', 'N28257', 'N306', 'N5579']\n"
     ]
    }
   ],
   "execution_count": 6
  },
  {
   "metadata": {
    "ExecuteTime": {
     "end_time": "2025-04-06T16:00:53.194482Z",
     "start_time": "2025-04-06T15:55:49.727014Z"
    }
   },
   "cell_type": "code",
   "source": [
    "columns = [\"id\", \"user_id\", \"timestamp\", \"history\", \"impressions\"]\n",
    "\n",
    "valid_behaviors_df = pd.read_csv(valid_behaviors_path, sep=\"\\t\", header=None, names=columns)\n",
    "\n",
    "ndcg, auc, mrr = evaluate_model(model, valid_behaviors_df, 5)\n",
    "print(f\"Hybrid Model - NDCG@5: {ndcg:.4f}, AUC@5: {auc:.4f}, MRR@5: {mrr:.4f}\")"
   ],
   "id": "dc93ff6fc1e3c950",
   "outputs": [
    {
     "name": "stdout",
     "output_type": "stream",
     "text": [
      "Hybrid Model - NDCG@5: 0.0410, AUC@5: 0.0415, MRR@5: 0.0453\n"
     ]
    }
   ],
   "execution_count": 7
  }
 ],
 "metadata": {
  "kernelspec": {
   "display_name": "Python 3",
   "language": "python",
   "name": "python3"
  },
  "language_info": {
   "codemirror_mode": {
    "name": "ipython",
    "version": 2
   },
   "file_extension": ".py",
   "mimetype": "text/x-python",
   "name": "python",
   "nbconvert_exporter": "python",
   "pygments_lexer": "ipython2",
   "version": "2.7.6"
  }
 },
 "nbformat": 4,
 "nbformat_minor": 5
}
